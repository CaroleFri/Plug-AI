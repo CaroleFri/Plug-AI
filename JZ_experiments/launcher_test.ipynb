{
 "cells": [
  {
   "cell_type": "code",
   "execution_count": 53,
   "id": "e758768a-4325-41f9-a384-b7bc0753423b",
   "metadata": {},
   "outputs": [
    {
     "name": "stdout",
     "output_type": "stream",
     "text": [
      "Overwriting plug_ai.slurm\n"
     ]
    }
   ],
   "source": [
    "%%writefile plug_ai.slurm\n",
    "#!/bin/bash\n",
    "#SBATCH --job-name=plug_ai\n",
    "#SBATCH --output=plug_ai.out\n",
    "#SBATCH --error=plug_ai.out\n",
    "#SBATCH --gres=gpu:1\n",
    "#SBATCH --ntasks-per-node=1\n",
    "#SBATCH --nodes=1\n",
    "#SBATCH --hint=nomultithread\n",
    "#SBATCH --time=00:50:00\n",
    "#SBATCH --qos=qos_gpu-dev\n",
    "#SBATCH --cpus-per-task=10\n",
    "#SBATCH --account=sos@v100\n",
    "#SBATCH -C v100-16g\n",
    "\n",
    "\n",
    "## load Pytorch module\n",
    "module purge\n",
    "\n",
    "module load pytorch-gpu/py3/1.10.1\n",
    "\n",
    "## launch script on every node\n",
    "set -x\n",
    "\n",
    "# code execution\n",
    "srun python /gpfsdswork/projects/idris/sos/ssos023/Projects/Plug-AI/Plug-AI/JZ_experiments/main.py \\\n",
    "--dataset_dir /gpfsscratch/idris/sos/ssos022/Medical/Task01_BrainTumour/ \\\n",
    "--limit_sample 20 --batch_size 2 --lr 0.0001"
   ]
  },
  {
   "cell_type": "code",
   "execution_count": 54,
   "id": "lonely-reduction",
   "metadata": {},
   "outputs": [
    {
     "name": "stdout",
     "output_type": "stream",
     "text": [
      "Submitted batch job 1503028\n"
     ]
    }
   ],
   "source": [
    "%%bash\n",
    "# submit job\n",
    "sbatch plug_ai.slurm"
   ]
  },
  {
   "cell_type": "code",
   "execution_count": 55,
   "id": "lesser-annual",
   "metadata": {},
   "outputs": [
    {
     "name": "stdout",
     "output_type": "stream",
     "text": [
      "             JOBID PARTITION     NAME     USER ST       TIME  NODES NODELIST(REASON)\n",
      "           1503028   gpu_p13  plug_ai  ssos023  R       1:32      1 r10i2n8\n",
      "loading dataset...\n",
      "got datalist, extract: \n",
      " {'channel_0': '/gpfsscratch/idris/sos/ssos022/Medical/Task01_BrainTumour/imagesTr/BRATS_001.nii.gz', 'label': '/gpfsscratch/idris/sos/ssos022/Medical/Task01_BrainTumour/labelsTr/BRATS_001.nii.gz'}\n",
      "dataset loaded ! Loading model...\n",
      "Model loaded ! Initialize training...\n",
      "start training loop, 10 steps per epoch\n",
      "[Epoch 1/1 |  Step_Epoch 1/10 | Loss 2.5674943923950195]\n",
      "[Epoch 1/1 |  Step_Epoch 2/10 | Loss 2.533360481262207]\n",
      "[Epoch 1/1 |  Step_Epoch 3/10 | Loss 2.509921073913574]\n",
      "[Epoch 1/1 |  Step_Epoch 4/10 | Loss 2.5486364364624023]\n",
      "Interrupted by 2, shutting down\n"
     ]
    }
   ],
   "source": [
    "from threading import Event\n",
    "import signal\n",
    "from IPython.display import clear_output\n",
    "\n",
    "def quit(signo, _frame):\n",
    "    print(\"Interrupted by %d, shutting down\" % signo)\n",
    "    exit.set()\n",
    "\n",
    "for sig in ('TERM', 'HUP', 'INT'):\n",
    "    signal.signal(getattr(signal, 'SIG'+sig), quit);\n",
    "\n",
    "exit = Event()\n",
    "\n",
    "sq = !squeue -u $USER -n plug_ai\n",
    "tail = !tail plug_ai.out\n",
    "while len(sq) >= 2 and not exit.is_set():\n",
    "    \n",
    "    clear_output(wait=True)\n",
    "    print(sq[0], sq[1], sep='\\n')\n",
    "    print(*tail, sep='\\n')\n",
    "    \n",
    "    sq = !squeue -u $USER -n plug_ai\n",
    "    tail = !tail plug_ai.out\n",
    "\n",
    "    exit.wait(1)"
   ]
  },
  {
   "cell_type": "code",
   "execution_count": 46,
   "id": "civil-tobacco",
   "metadata": {},
   "outputs": [],
   "source": [
    "!scancel -u $USER -n plug_ai"
   ]
  },
  {
   "cell_type": "code",
   "execution_count": null,
   "id": "213b6c57-dec3-4fee-9982-3a662452ea0b",
   "metadata": {},
   "outputs": [],
   "source": []
  }
 ],
 "metadata": {
  "kernelspec": {
   "display_name": "Python 3 (ipykernel)",
   "language": "python",
   "name": "python3"
  },
  "language_info": {
   "codemirror_mode": {
    "name": "ipython",
    "version": 3
   },
   "file_extension": ".py",
   "mimetype": "text/x-python",
   "name": "python",
   "nbconvert_exporter": "python",
   "pygments_lexer": "ipython3",
   "version": "3.9.7"
  }
 },
 "nbformat": 4,
 "nbformat_minor": 5
}
