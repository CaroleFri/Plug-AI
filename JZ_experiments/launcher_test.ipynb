{
 "cells": [
  {
   "cell_type": "code",
   "execution_count": 6,
   "id": "e758768a-4325-41f9-a384-b7bc0753423b",
   "metadata": {},
   "outputs": [
    {
     "name": "stdout",
     "output_type": "stream",
     "text": [
      "Overwriting plug_ai.slurm\n"
     ]
    }
   ],
   "source": [
    "%%writefile plug_ai.slurm\n",
    "#!/bin/bash\n",
    "#SBATCH --job-name=plug_ai\n",
    "#SBATCH --output=plug_ai.out\n",
    "#SBATCH --error=plug_ai.out\n",
    "#SBATCH --gres=gpu:1\n",
    "#SBATCH --ntasks-per-node=1\n",
    "#SBATCH --nodes=1\n",
    "#SBATCH --hint=nomultithread\n",
    "#SBATCH --time=00:50:00\n",
    "#SBATCH --qos=qos_gpu-dev\n",
    "#SBATCH --cpus-per-task=10\n",
    "#SBATCH --account=sos@v100\n",
    "#SBATCH -C v100-16g\n",
    "\n",
    "\n",
    "## load Pytorch module\n",
    "module purge\n",
    "\n",
    "module load pytorch-gpu/py3/1.10.1\n",
    "\n",
    "## launch script on every node\n",
    "set -x\n",
    "\n",
    "# code execution\n",
    "srun python /gpfswork/rech/ibu/ssos023/Plug-AI/JZ_experiments/main.py \\\n",
    "--dataset_dir /gpfsscratch/idris/sos/ssos022/Medical/Task01_BrainTumour/ \\\n",
    "--limit_sample 20 --batch_size 2 --lr 0.0001"
   ]
  },
  {
   "cell_type": "code",
   "execution_count": 7,
   "id": "lonely-reduction",
   "metadata": {},
   "outputs": [
    {
     "name": "stdout",
     "output_type": "stream",
     "text": [
      "Submitted batch job 389657\n"
     ]
    }
   ],
   "source": [
    "%%bash\n",
    "# submit job\n",
    "sbatch plug_ai.slurm"
   ]
  },
  {
   "cell_type": "code",
   "execution_count": 8,
   "id": "lesser-annual",
   "metadata": {},
   "outputs": [
    {
     "name": "stdout",
     "output_type": "stream",
     "text": [
      "             JOBID PARTITION     NAME     USER ST       TIME  NODES NODELIST(REASON)\n",
      "            389657   gpu_p13  plug_ai  ssos023 CG       1:13      1 r10i1n7\n",
      "Loading pytorch-gpu/py3/1.10.1\n",
      "  Loading requirement: cuda/11.2 nccl/2.9.6-1-cuda cudnn/8.1.1.33-cuda gcc/8.4.1\n",
      "    openmpi/4.1.1-cuda intel-mkl/2020.4 magma/2.5.4-cuda sox/14.4.2\n",
      "+ srun python /gpfswork/rech/ibu/ssos023/Plug-AI/JZ_experiments/main.py --dataset_dir /gpfsscratch/idris/sos/ssos022/Medical/Task01_BrainTumour/ --limit_sample 20 --batch_size 2 --lr 0.0001\n",
      "Final Args: {'mode': 'Training', 'dataset_dir': '/gpfsscratch/idris/sos/ssos022/Medical/Task01_BrainTumour/', 'task': 'THIS IS A TEST', 'n_class': 4, 'categories': ['cat0', 'cat1', 'cat2', 'cat3'], 'limit_sample': 20, 'batch_size': 2, 'nb_epoch': 1, 'learning_rate': '5e-05', 'device': 'cuda', 'random_seed': 2022, 'verbose': 'Full', 'export_config': True, 'config_file': '/gpfsdswork/projects/idris/sos/ssos023/Projects/Plug-AI/Plug-AI/JZ_experiments/config.yaml', 'lr': 0.0001}\n",
      "ordereddict([('mode', 'Training'), ('dataset_dir', '/gpfsscratch/idris/sos/ssos022/Medical/Task01_BrainTumour/'), ('task', 'Segmentation'), ('n_class', 4), ('categories', ['cat0', 'cat1', 'cat2', 'cat3']), ('limit_sample', 'None'), ('batch_size', 2), ('nb_epoch', 1), ('learning_rate', 5e-05), ('device', 'cuda'), ('random_seed', 2022), ('verbose', 'Full'), ('export_config', True)])\n",
      "{'mode': 'Training', 'dataset_dir': '/gpfsscratch/idris/sos/ssos022/Medical/Task01_BrainTumour/', 'task': 'THIS IS A TEST', 'n_class': 4, 'categories': ['cat0', 'cat1', 'cat2', 'cat3'], 'limit_sample': 20, 'batch_size': 2, 'nb_epoch': 1, 'learning_rate': '5e-05', 'device': 'cuda', 'random_seed': 2022, 'verbose': 'Full', 'export_config': True, 'config_file': '/gpfsdswork/projects/idris/sos/ssos023/Projects/Plug-AI/Plug-AI/JZ_experiments/config.yaml', 'lr': 0.0001}\n"
     ]
    }
   ],
   "source": [
    "from threading import Event\n",
    "import signal\n",
    "from IPython.display import clear_output\n",
    "\n",
    "def quit(signo, _frame):\n",
    "    print(\"Interrupted by %d, shutting down\" % signo)\n",
    "    exit.set()\n",
    "\n",
    "for sig in ('TERM', 'HUP', 'INT'):\n",
    "    signal.signal(getattr(signal, 'SIG'+sig), quit);\n",
    "\n",
    "exit = Event()\n",
    "\n",
    "sq = !squeue -u $USER -n plug_ai\n",
    "tail = !tail plug_ai.out\n",
    "while len(sq) >= 2 and not exit.is_set():\n",
    "    \n",
    "    clear_output(wait=True)\n",
    "    print(sq[0], sq[1], sep='\\n')\n",
    "    print(*tail, sep='\\n')\n",
    "    \n",
    "    sq = !squeue -u $USER -n plug_ai\n",
    "    tail = !tail plug_ai.out\n",
    "\n",
    "    exit.wait(1)"
   ]
  },
  {
   "cell_type": "code",
   "execution_count": 9,
   "id": "civil-tobacco",
   "metadata": {},
   "outputs": [],
   "source": [
    "!scancel -u $USER -n plug_ai"
   ]
  },
  {
   "cell_type": "code",
   "execution_count": null,
   "id": "213b6c57-dec3-4fee-9982-3a662452ea0b",
   "metadata": {},
   "outputs": [],
   "source": []
  }
 ],
 "metadata": {
  "kernelspec": {
   "display_name": "Python 3 (ipykernel)",
   "language": "python",
   "name": "python3"
  },
  "language_info": {
   "codemirror_mode": {
    "name": "ipython",
    "version": 3
   },
   "file_extension": ".py",
   "mimetype": "text/x-python",
   "name": "python",
   "nbconvert_exporter": "python",
   "pygments_lexer": "ipython3",
   "version": "3.9.7"
  }
 },
 "nbformat": 4,
 "nbformat_minor": 5
}
