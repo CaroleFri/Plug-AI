{
 "cells": [
  {
   "cell_type": "markdown",
   "id": "3cdf13b4-88bf-4443-b8f2-0eb74d65e0cb",
   "metadata": {},
   "source": [
    "Pour le moment, pour mener les tests comme si c'était un package installé, export path dans le .bashrc ou sys.path.append dans les script pour importer plug_ai"
   ]
  },
  {
   "cell_type": "code",
   "execution_count": null,
   "id": "9280eb6b-be5e-40d9-a95c-ce6c2a7a6de9",
   "metadata": {},
   "outputs": [],
   "source": [
    "#import sys\n",
    "#sys.path.append('/gpfswork/rech/ibu/ssos023/Plug-AI')\n",
    "#!export PYTHONPATH=$PYTHONPATH:/gpfsdswork/projects/rech/ibu/ssos023/Plug-AI/plug_ai\n",
    "#!export PYTHONPATH=$PYTHONPATH:/gpfsdswork/projects/rech/ibu/ssos023/Plug-AI/"
   ]
  },
  {
   "cell_type": "code",
   "execution_count": 1,
   "id": "5c912e38-3e6d-4c34-835b-42c833876f19",
   "metadata": {},
   "outputs": [],
   "source": [
    "#Utile pour recharger la librairie sans relancer le kernel\n",
    "%load_ext autoreload\n",
    "%autoreload 2"
   ]
  },
  {
   "cell_type": "code",
   "execution_count": 7,
   "id": "874d2d20-6b8d-4193-98a9-4fad5817f2ae",
   "metadata": {},
   "outputs": [],
   "source": [
    "import monai\n",
    "import inspect"
   ]
  },
  {
   "cell_type": "markdown",
   "id": "f9cf1ae1-9c79-4ecf-b6c6-72baec1ad039",
   "metadata": {},
   "source": [
    "        print(config)WARNING: There is an issue on frontal nodes. Kernel dies and there is a cuda initialization (from where? apparently dynunet from monai.networks.nets import DynUNet) that fails"
   ]
  },
  {
   "cell_type": "markdown",
   "id": "f65e812d-3ce9-4c08-9da7-2ae5a33dd622",
   "metadata": {},
   "source": [
    "### Test cells"
   ]
  },
  {
   "cell_type": "code",
   "execution_count": 14,
   "id": "4df34219-1a35-40b8-ab51-96735fb301ae",
   "metadata": {},
   "outputs": [],
   "source": [
    "# Maybe should we complete arguments list in cli automatically to include the dataset & model arguments\n",
    "# We can retrieve args (and types if defined) and add a fake init just like for managers to each dataset/model we define and have the manager inherit those args\n",
    "# For now, we add manually  (up to the user) those args in dataset_kwargs\n",
    "#monai.apps.DecathlonDataset.__init__.__code__.co_varnames\n",
    "#inspect.getfullargspec(monai.apps.DecathlonDataset.__init__)"
   ]
  },
  {
   "cell_type": "code",
   "execution_count": 12,
   "id": "786caee7-3ab0-43dc-aaa7-10552338eb56",
   "metadata": {},
   "outputs": [
    {
     "name": "stdout",
     "output_type": "stream",
     "text": [
      "nnUNet_raw_data_base is not defined and nnU-Net can only be used on data for which preprocessed files are already present on your system. nnU-Net cannot be used for experiment planning and preprocessing like this. If this is not intended, please read documentation/setting_up_paths.md for information on how to set this up properly.\n",
      "nnUNet_preprocessed is not defined and nnU-Net can not be used for preprocessing or training. If this is not intended, please read documentation/setting_up_paths.md for information on how to set this up.\n",
      "RESULTS_FOLDER is not defined and nnU-Net cannot be used for training or inference. If this is not intended behavior, please read documentation/setting_up_paths.md for information on how to set this up.\n"
     ]
    }
   ],
   "source": [
    "import nnunet\n",
    "from nnunet.experiment_planning.nnUNet_plan_and_preprocess import main as test_fun"
   ]
  },
  {
   "cell_type": "code",
   "execution_count": 1,
   "id": "21b722cd-95e5-43b1-a9fd-8e7bcfe89561",
   "metadata": {},
   "outputs": [],
   "source": [
    "!export nnUNet_raw_data_base=\"/gpfswork/rech/ibu/commun/\"\n",
    "!export nnUNet_preprocessed=\"/gpfswork/rech/ibu/commun/nnUNet_preprocessed\"\n",
    "!export RESULTS_FOLDER=\"/gpfswork/rech/ibu/commun/nnUNet_trained_models\""
   ]
  },
  {
   "cell_type": "code",
   "execution_count": 6,
   "id": "cb2560d4-8fab-4c17-88bc-7c3d0135910b",
   "metadata": {},
   "outputs": [
    {
     "name": "stdout",
     "output_type": "stream",
     "text": [
      "\n",
      "\n",
      "Please cite the following paper when using nnUNet:\n",
      "\n",
      "Isensee, F., Jaeger, P.F., Kohl, S.A.A. et al. \"nnU-Net: a self-configuring method for deep learning-based biomedical image segmentation.\" Nat Methods (2020). https://doi.org/10.1038/s41592-020-01008-z\n",
      "\n",
      "\n",
      "If you have questions or suggestions, feel free to open an issue at https://github.com/MIC-DKFZ/nnUNet\n",
      "\n",
      "Verifying training set\n",
      "checking case BRATS_457\n",
      "Traceback (most recent call last):\n",
      "  File \"/linkhome/idris/genidr/ssos023/.local/bin/nnUNet_plan_and_preprocess\", line 8, in <module>\n",
      "    sys.exit(main())\n",
      "  File \"/linkhome/idris/genidr/ssos023/.local/lib/python3.9/site-packages/nnunet/experiment_planning/nnUNet_plan_and_preprocess.py\", line 105, in main\n",
      "    verify_dataset_integrity(join(nnUNet_raw_data, task_name))\n",
      "  File \"/linkhome/idris/genidr/ssos023/.local/lib/python3.9/site-packages/nnunet/preprocessing/sanity_checks.py\", line 131, in verify_dataset_integrity\n",
      "    assert all([isfile(i) for i in\n",
      "AssertionError: some image files are missing for case BRATS_457. Expected files:\n",
      " ['/gpfswork/rech/ibu/commun/nnUNet_raw_data_base/nnUNet_raw_data/Task001_BrainTumour/imagesTr/BRATS_457_0000.nii.gz', '/gpfswork/rech/ibu/commun/nnUNet_raw_data_base/nnUNet_raw_data/Task001_BrainTumour/imagesTr/BRATS_457_0001.nii.gz', '/gpfswork/rech/ibu/commun/nnUNet_raw_data_base/nnUNet_raw_data/Task001_BrainTumour/imagesTr/BRATS_457_0002.nii.gz', '/gpfswork/rech/ibu/commun/nnUNet_raw_data_base/nnUNet_raw_data/Task001_BrainTumour/imagesTr/BRATS_457_0003.nii.gz']\n"
     ]
    }
   ],
   "source": [
    "!nnUNet_plan_and_preprocess -t 001 --verify_dataset_integrity"
   ]
  },
  {
   "cell_type": "markdown",
   "id": "e89e04a8-e34c-4901-b787-448f0e92a0aa",
   "metadata": {
    "tags": []
   },
   "source": [
    "### Test CLI APP"
   ]
  },
  {
   "cell_type": "markdown",
   "id": "d0cef5c5-d61c-46e2-a9aa-b48edb49dff0",
   "metadata": {
    "tags": []
   },
   "source": [
    "#### CLI run"
   ]
  },
  {
   "cell_type": "code",
   "execution_count": 7,
   "id": "07754c07-af4a-4581-8a50-38677d59e983",
   "metadata": {},
   "outputs": [
    {
     "name": "stdout",
     "output_type": "stream",
     "text": [
      "Plug-AI CLI running :\n",
      "Dataset initialization ...\n",
      "Dataset_kwargs :  {'dataset_dir': '/gpfswork/rech/ibu/commun/BraTS2021/BraTS2021_Training_Data/', 'download_dataset': False, 'dataset_param1': 'None', 'categories': ['cat0', 'cat1', 'cat2', 'cat3', 'cat4'], 'task': 'THIS IS A TEST', 'transformation': 'BraTS_transform'}\n",
      "Dataset type is valid\n",
      "loading dataset...\n",
      "got datalist, extract: \n",
      " {'channel_0': '/gpfswork/rech/ibu/commun/BraTS2021/BraTS2021_Training_Data/BraTS2021_00081/BraTS2021_00081_flair.nii.gz', 'channel_1': '/gpfswork/rech/ibu/commun/BraTS2021/BraTS2021_Training_Data/BraTS2021_00081/BraTS2021_00081_t1ce.nii.gz', 'channel_2': '/gpfswork/rech/ibu/commun/BraTS2021/BraTS2021_Training_Data/BraTS2021_00081/BraTS2021_00081_t2.nii.gz', 'channel_3': '/gpfswork/rech/ibu/commun/BraTS2021/BraTS2021_Training_Data/BraTS2021_00081/BraTS2021_00081_t1.nii.gz', 'label': '/gpfswork/rech/ibu/commun/BraTS2021/BraTS2021_Training_Data/BraTS2021_00081/BraTS2021_00081_seg.nii.gz'}\n",
      "keys: ['channel_0', 'channel_1', 'channel_2', 'channel_3', 'label']\n",
      "Generating signature\n",
      "Generating signature for dataset\n",
      "Dataset loaded !\n",
      "Model type is valid\n",
      "Model preparation done!\n",
      "Traceback (most recent call last):\n",
      "  File \"/gpfslocalsup/pub/anaconda-py3/2021.05/envs/pytorch-gpu-1.10.1+py3.9.7/lib/python3.9/runpy.py\", line 197, in _run_module_as_main\n",
      "    return _run_code(code, main_globals, None,\n",
      "  File \"/gpfslocalsup/pub/anaconda-py3/2021.05/envs/pytorch-gpu-1.10.1+py3.9.7/lib/python3.9/runpy.py\", line 87, in _run_code\n",
      "    exec(code, run_globals)\n",
      "  File \"/gpfsdswork/projects/rech/ibu/ssos023/Plug-AI/plug_ai/__main__.py\", line 74, in <module>\n",
      "    main(config)\n",
      "  File \"/gpfsdswork/projects/rech/ibu/ssos023/Plug-AI/plug_ai/__main__.py\", line 47, in main\n",
      "    execution_manager = plug_ai.managers.ExecutionManager(dataset_manager = dataset_manager, \n",
      "  File \"/gpfsdswork/projects/rech/ibu/ssos023/Plug-AI/plug_ai/managers/managers.py\", line 413, in __init__\n",
      "    if optimizer:\n",
      "NameError: name 'optimizer' is not defined\n"
     ]
    }
   ],
   "source": [
    "!python -m plug_ai --config_file /gpfsdswork/projects/rech/ibu/ssos023/Plug-AI/plug_ai/config_exemples/config_Brats.yaml --export_config config_saved_test.yaml"
   ]
  },
  {
   "cell_type": "markdown",
   "id": "a31e0ecc-7533-44cf-97f3-0d103475a7b2",
   "metadata": {
    "tags": []
   },
   "source": [
    "#### CLI help"
   ]
  },
  {
   "cell_type": "code",
   "execution_count": 5,
   "id": "97fa8162-f414-44e0-893c-c38bfabc0556",
   "metadata": {},
   "outputs": [
    {
     "name": "stdout",
     "output_type": "stream",
     "text": [
      "Traceback (most recent call last):\n",
      "  File \"/gpfslocalsup/pub/anaconda-py3/2021.05/envs/pytorch-gpu-1.10.1+py3.9.7/lib/python3.9/runpy.py\", line 188, in _run_module_as_main\n",
      "    mod_name, mod_spec, code = _get_module_details(mod_name, _Error)\n",
      "  File \"/gpfslocalsup/pub/anaconda-py3/2021.05/envs/pytorch-gpu-1.10.1+py3.9.7/lib/python3.9/runpy.py\", line 147, in _get_module_details\n",
      "    return _get_module_details(pkg_main_name, error)\n",
      "  File \"/gpfslocalsup/pub/anaconda-py3/2021.05/envs/pytorch-gpu-1.10.1+py3.9.7/lib/python3.9/runpy.py\", line 111, in _get_module_details\n",
      "    __import__(pkg_name)\n",
      "  File \"/gpfsdswork/projects/rech/ibu/ssos023/Plug-AI/plug_ai/__init__.py\", line 12, in <module>\n",
      "    from . import managers\n",
      "  File \"/gpfsdswork/projects/rech/ibu/ssos023/Plug-AI/plug_ai/managers/__init__.py\", line 1, in <module>\n",
      "    from .managers import *\n",
      "  File \"/gpfsdswork/projects/rech/ibu/ssos023/Plug-AI/plug_ai/managers/managers.py\", line 18, in <module>\n",
      "    from ..optim import supported_modes\n",
      "ImportError: cannot import name 'supported_modes' from 'plug_ai.optim' (/gpfsdswork/projects/rech/ibu/ssos023/Plug-AI/plug_ai/optim/__init__.py)\n"
     ]
    }
   ],
   "source": [
    "!python -m plug_ai --h"
   ]
  },
  {
   "cell_type": "markdown",
   "id": "acaeebab-1c70-41e2-8fcc-4f9e2e0bfc54",
   "metadata": {
    "tags": []
   },
   "source": [
    "### Test librairie"
   ]
  },
  {
   "cell_type": "code",
   "execution_count": 2,
   "id": "85db1ba2-9466-42d0-b920-e10041c78d0a",
   "metadata": {},
   "outputs": [],
   "source": [
    "import plug_ai"
   ]
  },
  {
   "cell_type": "code",
   "execution_count": null,
   "id": "f144c1a5-c624-4bda-843a-adbf6555e1a4",
   "metadata": {},
   "outputs": [],
   "source": [
    "from plug_ai.data.dataset import get_dataset\n",
    "train_loader = get_dataset(args[\"dataset_dir\"], batch_size=args[\"batch_size\"], limit_sample=args[\"limit_sample\"])"
   ]
  },
  {
   "cell_type": "code",
   "execution_count": null,
   "id": "e1f3fe0f-9dc3-4380-a3d1-cf40b8c81f4c",
   "metadata": {
    "tags": []
   },
   "outputs": [],
   "source": [
    "plug_ai.data.dataset.datasets"
   ]
  }
 ],
 "metadata": {
  "kernelspec": {
   "display_name": "Python 3 (ipykernel)",
   "language": "python",
   "name": "python3"
  },
  "language_info": {
   "codemirror_mode": {
    "name": "ipython",
    "version": 3
   },
   "file_extension": ".py",
   "mimetype": "text/x-python",
   "name": "python",
   "nbconvert_exporter": "python",
   "pygments_lexer": "ipython3",
   "version": "3.9.7"
  }
 },
 "nbformat": 4,
 "nbformat_minor": 5
}
