{
 "cells": [
  {
   "cell_type": "code",
   "execution_count": 2,
   "id": "canadian-warren",
   "metadata": {},
   "outputs": [
    {
     "name": "stdout",
     "output_type": "stream",
     "text": [
      "Overwriting plug_ai.slurm\n"
     ]
    }
   ],
   "source": [
    "%%writefile plug_ai.slurm\n",
    "#!/bin/bash\n",
    "#SBATCH --job-name=plug_ai\n",
    "#SBATCH --output=plug_ai.out\n",
    "#SBATCH --error=plug_ai.out\n",
    "#SBATCH --gres=gpu:1\n",
    "#SBATCH --ntasks-per-node=1\n",
    "#SBATCH --nodes=1\n",
    "#SBATCH --hint=nomultithread\n",
    "#SBATCH --time=00:50:00\n",
    "#SBATCH --qos=qos_gpu-dev\n",
    "#SBATCH --cpus-per-task=10\n",
    "#SBATCH --account=sos@v100\n",
    "#SBATCH -C v100-16g\n",
    "\n",
    "\n",
    "## load Pytorch module\n",
    "module purge\n",
    "\n",
    "module load pytorch-gpu/py3/1.10.1\n",
    "\n",
    "## launch script on every node\n",
    "set -x\n",
    "\n",
    "# code execution\n",
    "srun python main.py --batch_size 2 --lr 0.0001 --n_class 5 \\\n",
    "--dataset_dir /gpfsscratch/idris/sos/ssos022/Medical/BraTS2021/BraTS2021_Training_Data \\"
   ]
  },
  {
   "cell_type": "code",
   "execution_count": 3,
   "id": "lonely-reduction",
   "metadata": {},
   "outputs": [
    {
     "name": "stdout",
     "output_type": "stream",
     "text": [
      "Submitted batch job 1077074\n"
     ]
    }
   ],
   "source": [
    "%%bash\n",
    "# submit job\n",
    "sbatch plug_ai.slurm"
   ]
  },
  {
   "cell_type": "code",
   "execution_count": 6,
   "id": "lesser-annual",
   "metadata": {
    "tags": []
   },
   "outputs": [
    {
     "name": "stdout",
     "output_type": "stream",
     "text": [
      "             JOBID PARTITION     NAME     USER ST       TIME  NODES NODELIST(REASON)\n",
      "           1077074   gpu_p13  plug_ai  ssos022 CG       4:10      1 r10i3n6\n",
      "[Epoch 1/1 |  Step_Epoch 87/626 | Loss 2.1814963817596436]\n",
      "[Epoch 1/1 |  Step_Epoch 88/626 | Loss 2.1598753929138184]\n",
      "[Epoch 1/1 |  Step_Epoch 89/626 | Loss 2.164863109588623]\n",
      "[Epoch 1/1 |  Step_Epoch 90/626 | Loss 2.141308307647705]\n",
      "[Epoch 1/1 |  Step_Epoch 91/626 | Loss 2.097301721572876]\n",
      "[Epoch 1/1 |  Step_Epoch 92/626 | Loss 2.113685131072998]\n",
      "[Epoch 1/1 |  Step_Epoch 93/626 | Loss 2.0842974185943604]\n",
      "srun: Job step aborted: Waiting up to 62 seconds for job step to finish.\n",
      "slurmstepd: error: *** STEP 1077074.0 ON r10i3n6 CANCELLED AT 2022-07-11T17:25:57 ***\n",
      "slurmstepd: error: *** JOB 1077074 ON r10i3n6 CANCELLED AT 2022-07-11T17:25:57 ***\n"
     ]
    }
   ],
   "source": [
    "from threading import Event\n",
    "import signal\n",
    "from IPython.display import clear_output\n",
    "\n",
    "def quit(signo, _frame):\n",
    "    print(\"Interrupted by %d, shutting down\" % signo)\n",
    "    exit.set()\n",
    "\n",
    "for sig in ('TERM', 'HUP', 'INT'):\n",
    "    signal.signal(getattr(signal, 'SIG'+sig), quit);\n",
    "\n",
    "exit = Event()\n",
    "\n",
    "sq = !squeue -u $USER -n plug_ai\n",
    "tail = !tail plug_ai.out\n",
    "while len(sq) >= 2 and not exit.is_set():\n",
    "    \n",
    "    clear_output(wait=True)\n",
    "    print(sq[0], sq[1], sep='\\n')\n",
    "    print(*tail, sep='\\n')\n",
    "    \n",
    "    sq = !squeue -u $USER -n plug_ai\n",
    "    tail = !tail plug_ai.out\n",
    "\n",
    "    exit.wait(1)"
   ]
  },
  {
   "cell_type": "code",
   "execution_count": null,
   "id": "48a466ff-6996-4bb6-b53a-e49eac52da4e",
   "metadata": {},
   "outputs": [],
   "source": []
  },
  {
   "cell_type": "code",
   "execution_count": 5,
   "id": "civil-tobacco",
   "metadata": {},
   "outputs": [],
   "source": [
    "!scancel -u $USER -n plug_ai"
   ]
  },
  {
   "cell_type": "code",
   "execution_count": null,
   "id": "dated-journalism",
   "metadata": {},
   "outputs": [],
   "source": []
  }
 ],
 "metadata": {
  "kernelspec": {
   "display_name": "pytorch-gpu-1.10.1+py3.9.7",
   "language": "python",
   "name": "pytorch-gpu-1.10.1_py3.9.7"
  },
  "language_info": {
   "codemirror_mode": {
    "name": "ipython",
    "version": 3
   },
   "file_extension": ".py",
   "mimetype": "text/x-python",
   "name": "python",
   "nbconvert_exporter": "python",
   "pygments_lexer": "ipython3",
   "version": "3.9.7"
  }
 },
 "nbformat": 4,
 "nbformat_minor": 5
}
