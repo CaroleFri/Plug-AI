{
 "cells": [
  {
   "cell_type": "markdown",
   "id": "ce172f9e-3dc8-4fd4-b025-f390381438ae",
   "metadata": {
    "tags": []
   },
   "source": [
    "# Plug-AI : Inference on new data"
   ]
  },
  {
   "cell_type": "markdown",
   "id": "3e7f8ffd-f609-4812-8469-d29243e32772",
   "metadata": {
    "tags": []
   },
   "source": [
    "### Config file"
   ]
  },
  {
   "cell_type": "code",
   "execution_count": 8,
   "id": "45f6225d-6492-4904-a60f-b9c2069af2e9",
   "metadata": {},
   "outputs": [
    {
     "name": "stdout",
     "output_type": "stream",
     "text": [
      "Overwriting config_inference_demo.yaml\n"
     ]
    }
   ],
   "source": [
    "%%writefile config_inference_demo.yaml\n",
    "# Default config is used even if no config file is specified in CLI. Undefined arguments will take the default values.\n",
    "##################################################################################################\n",
    "####################################### Global arguments : #######################################\n",
    "##################################################################################################\n",
    "config_file: null\n",
    "export_config: null\n",
    "mode: INFERENCE\n",
    "verbose: FULL\n",
    "seed: null\n",
    "export_dir: /gpfswork/rech/ibu/commun/Demo_BraTS_SegResNet_300523\n",
    "##################################################################################################\n",
    "######################################## Data arguments : ########################################\n",
    "##################################################################################################\n",
    "dataset: BraTS\n",
    "dataset_kwargs:\n",
    "    dataset_dir: /gpfswork/rech/ibu/commun/BraTS2021/Test_Inference # Absolute path to the dataset root dir\n",
    "    download_dataset: false\n",
    "    transformation: BraTS_transform\n",
    "train_ratio: 0.8\n",
    "val_ratio: 0.2\n",
    "batch_size: 3\n",
    "shuffle: false\n",
    "drop_last: false\n",
    "##################################################################################################\n",
    "####################################### Model arguments : ########################################\n",
    "##################################################################################################\n",
    "model: SegResNet\n",
    "model_kwargs:\n",
    "    blocks_down: [1, 2, 2, 4]\n",
    "    blocks_up: [1, 1, 1]\n",
    "    init_filters: 16\n",
    "    in_channels: 4\n",
    "    out_channels: 3\n",
    "    dropout_prob: 0.2\n",
    "model_weights_path: /gpfswork/rech/ibu/commun/Demo_BraTS_SegResNet_300523/model_backup.pt\n",
    "##################################################################################################\n",
    "##################################### Execution arguments : ######################################\n",
    "##################################################################################################\n",
    "#Training settings\n",
    "nb_epoch: 10\n",
    "device: cuda\n",
    "random_seed: 2022  # None for real randomness, set an integer for reproductibility\n",
    "report_log: False\n",
    "loop: Inferer_SW"
   ]
  },
  {
   "cell_type": "markdown",
   "id": "90b7931b-2114-442d-ad7b-5ad6f84146d6",
   "metadata": {},
   "source": [
    "### Execution"
   ]
  },
  {
   "cell_type": "code",
   "execution_count": 2,
   "id": "d75d64c3-5a9b-4882-bfa9-bf7a092401e5",
   "metadata": {},
   "outputs": [
    {
     "name": "stdout",
     "output_type": "stream",
     "text": [
      "/gpfsdswork/projects/rech/ibu/ssos023/Plug-AI/examples/config_inference_demo.yaml\n",
      "Plug-AI given kwargs:\n",
      "\t dataset : BraTS\n",
      "\t dataset_kwargs : {'dataset_dir': '/gpfswork/rech/ibu/commun/BraTS2021/Test_Inference', 'download_dataset': False, 'transformation': 'BraTS_transform'}\n",
      "\t limit_sample : None\n",
      "\t preprocess : None\n",
      "\t preprocess_kwargs : None\n",
      "\t model : SegResNet\n",
      "\t model_kwargs : {'blocks_down': [1, 2, 2, 4], 'blocks_up': [1, 1, 1], 'init_filters': 16, 'in_channels': 4, 'out_channels': 3, 'dropout_prob': 0.2}\n",
      "\t model_weights_path : /gpfsdswork/projects/rech/ibu/ssos023/Plug-AI/examples/Training_Inference_demo/model_best2.pt\n",
      "\t nb_epoch : 10\n",
      "\t learning_rate : 5e-05\n",
      "\t device : cuda\n",
      "\t random_seed : 2022\n",
      "\t report_log : False\n",
      "\t loop : Inferer_SW\n",
      "\t loop_kwargs : None\n",
      "\t optimizer : AdamW\n",
      "\t optimizer_kwargs : {'lr': 0.0001, 'weight_decay': 1e-05}\n",
      "\t lr_scheduler : None\n",
      "\t lr_scheduler_kwargs : None\n",
      "\t criterion : DiceCELoss\n",
      "\t criterion_kwargs : {'sigmoid': True}\n",
      "\t metric : None\n",
      "\t metric_kwargs : None\n",
      "\t config_file : config_inference_demo.yaml\n",
      "\t export_config : None\n",
      "\t mode : INFERENCE\n",
      "\t verbose : FULL\n",
      "\t seed : None\n",
      "\t export_dir : /gpfswork/rech/ibu/commun/Demo_BraTS_SegResNet_300523\n",
      "\t train_ratio : 0.8\n",
      "\t val_ratio : 0.2\n",
      "\t batch_size : 3\n",
      "\t shuffle : True\n",
      "\t drop_last : True\n",
      "==================================== Dataset initialization ... ====================================\n",
      "Running with interpreted config:\n",
      " \tdataset: BraTS\n",
      "\tdataset_kwargs: {'dataset_dir': '/gpfswork/rech/ibu/commun/BraTS2021/Test_Inference', 'download_dataset': False, 'transformation': 'BraTS_transform'}\n",
      "\tpreprocess: None\n",
      "\tpreprocess_kwargs: {}\n",
      "\tmode: INFERENCE\n",
      "\tbatch_size: 3\n",
      "\ttrain_ratio: 0.8\n",
      "\tval_ratio: 0.2\n",
      "\tlimit_sample: None\n",
      "\tshuffle: True\n",
      "\tdrop_last: True\n",
      "\tseed: None\n",
      "\tverbose: FULL\n",
      "\texport_dir: /gpfsdswork/projects/rech/ibu/commun/Demo_BraTS_SegResNet_300523\n",
      "Dataset type is valid\n",
      "loading dataset...\n",
      "Datalist extact with:  7  items\n",
      "Dataset keys: ['data_id', 'channel_0', 'channel_1', 'channel_2', 'channel_3', 'channel_4']\n",
      "BraTS\n",
      "<class 'monai.data.dataset.Dataset'>\n",
      "Loaded the dataset\n",
      "Using  7 elements of the full Dataset.\n",
      "===================================== Model initialization ... =====================================\n",
      "Running with interpreted config:\n",
      " \tmodel: SegResNet\n",
      "\tmodel_kwargs: {'blocks_down': [1, 2, 2, 4], 'blocks_up': [1, 1, 1], 'init_filters': 16, 'in_channels': 4, 'out_channels': 3, 'dropout_prob': 0.2}\n",
      "\tmodel_weights_path: /gpfsdswork/projects/rech/ibu/ssos023/Plug-AI/examples/Training_Inference_demo/model_best2.pt\n",
      "\tdevice: cuda\n",
      "\tmode: INFERENCE\n",
      "\tverbose: FULL\n",
      "\texport_dir: /gpfsdswork/projects/rech/ibu/commun/Demo_BraTS_SegResNet_300523\n",
      "\tmodel_name: SegResNet\n",
      "Model type is valid\n",
      "Model preparation done!\n",
      "=================================== Execution initialization ... ===================================\n",
      "Running with interpreted config:\n",
      " \tloop: <class 'plug_ai.runners.inference.Inferer_SW'>\n",
      "\tloop_kwargs: {}\n",
      "\tmode: INFERENCE\n",
      "\tnb_epoch: 10\n",
      "\tdevice: cuda\n",
      "\tseed: None\n",
      "\treport_log: False\n",
      "\tcriterion: <class 'monai.losses.dice.DiceCELoss'>\n",
      "\tmetric: None\n",
      "\tcriterion_kwargs: {'sigmoid': True}\n",
      "\tmetric_kwargs: {}\n",
      "\toptimizer: <class 'torch.optim.adamw.AdamW'>\n",
      "\toptimizer_kwargs: {'lr': 0.0001, 'weight_decay': 1e-05}\n",
      "\tlr_scheduler: {'scheduler': None, 'scheduler_update': None}\n",
      "\tlr_scheduler_kwargs: {}\n",
      "\tverbose: FULL\n",
      "\texport_dir: /gpfsdswork/projects/rech/ibu/commun/Demo_BraTS_SegResNet_300523\n",
      "\tdataset_manager: <plug_ai.managers.managers.DatasetManager object at 0x14f9a3146af0>\n",
      "\tmodel_manager: <plug_ai.managers.managers.ModelManager object at 0x14fad2fd6040>\n",
      "INFERENCE MODE:\n",
      "dict_keys(['infer_loader', 'export_dir', 'device', 'model'])\n",
      "Inference ongoing ...\n",
      "/linkhome/idris/genidr/ssos023/.local/lib/python3.9/site-packages/monai/utils/deprecate_utils.py:107: FutureWarning: <function write_nifti at 0x14f9af4ea0d0>: Function `write_nifti` has been deprecated since version 0.8. use monai.data.NibabelWriter instead.\n",
      "  warn_deprecated(obj, msg, warning_category)\n",
      "Execution over\n",
      ">>> Complete execution in: 0:00:16.506783\n"
     ]
    }
   ],
   "source": [
    "!python -m plug_ai --config_file config_inference_demo.yaml"
   ]
  },
  {
   "cell_type": "markdown",
   "id": "3579958b-cd4f-41ee-ae3c-37cb75c1071d",
   "metadata": {
    "tags": []
   },
   "source": [
    "## Visualisation of a prediction"
   ]
  },
  {
   "cell_type": "code",
   "execution_count": 18,
   "id": "925af5e3-5714-40fe-a3c7-cc799dfc4b68",
   "metadata": {},
   "outputs": [
    {
     "data": {
      "image/png": "[encoded data removed]",
      "text/plain": [
       "<Figure size 720x720 with 1 Axes>"
      ]
     },
     "metadata": {
      "needs_background": "light"
     },
     "output_type": "display_data"
    }
   ],
   "source": [
    "import os\n",
    "from monai.transforms import LoadImaged\n",
    "from monai.visualize import matshow3d\n",
    "import matplotlib.pyplot as plt\n",
    "\n",
    "directory = \"/gpfswork/rech/ibu/commun/Demo_BraTS_SegResNet_300523/Predictions\"\n",
    "file_name = \"BraTS2021_01662_prediction.nii.gz\"\n",
    "file_path = os.path.join(directory, file_name)\n",
    "\n",
    "# Load the NIfTI file as a numpy array\n",
    "keys = [\"segmentation\"]\n",
    "loader = LoadImaged(keys)\n",
    "data = loader({\"segmentation\": file_path})\n",
    "\n",
    "fig = plt.figure()\n",
    "matshow3d(data[\"segmentation\"], fig=fig, title=\"List of Volumes\")\n",
    "plt.show()"
   ]
  }
 ],
 "metadata": {
  "kernelspec": {
   "display_name": "pytorch-gpu-1.10.1_py3.9.7",
   "language": "python",
   "name": "module-conda-env-pytorch-gpu-1.10.1_py3.9.7"
  },
  "language_info": {
   "codemirror_mode": {
    "name": "ipython",
    "version": 3
   },
   "file_extension": ".py",
   "mimetype": "text/x-python",
   "name": "python",
   "nbconvert_exporter": "python",
   "pygments_lexer": "ipython3",
   "version": "3.9.7"
  }
 },
 "nbformat": 4,
 "nbformat_minor": 5
}
