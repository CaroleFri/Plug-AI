{
 "cells": [
  {
   "cell_type": "code",
   "execution_count": 4,
   "id": "9fe2b96c-c654-4f1f-8d60-a211e08e7160",
   "metadata": {},
   "outputs": [],
   "source": [
    "import os\n",
    "import re\n",
    "import sys\n",
    "import subprocess\n",
    "from stdlib_list import stdlib_list\n",
    "\n",
    "# Add a mapping of import names to package names\n",
    "IMPORT_TO_PACKAGE_MAP = {\n",
    "    'yaml': 'PyYAML',\n",
    "    'ruamel': 'ruamel.yaml',\n",
    "}\n",
    "\n",
    "def find_imports(root_dir):\n",
    "    imports = set()\n",
    "\n",
    "    for root, dirs, files in os.walk(root_dir):\n",
    "        for file in files:\n",
    "            if file.endswith('.py'):\n",
    "                filepath = os.path.join(root, file)\n",
    "                with open(filepath, 'r', encoding='utf-8') as f:\n",
    "                    content = f.read()\n",
    "                    import_matches = re.findall(r'^\\s*import\\s+([\\w.]+)', content, re.MULTILINE)\n",
    "                    from_import_matches = re.findall(r'^\\s*from\\s+([\\w.]+)\\s+import', content, re.MULTILINE)\n",
    "                    imports.update(match.split('.')[0] for match in import_matches if not match.startswith('.'))\n",
    "                    imports.update(match.split('.')[0] for match in from_import_matches if not match.startswith('.'))\n",
    "\n",
    "    return imports\n",
    "\n",
    "def get_installed_version(package):\n",
    "    try:\n",
    "        result = subprocess.run(['pip', 'show', package], stdout=subprocess.PIPE, stderr=subprocess.PIPE, text=True)\n",
    "        if result.returncode == 0:\n",
    "            version_line = re.search(r'^Version: (.+)$', result.stdout, re.MULTILINE)\n",
    "            if version_line:\n",
    "                return version_line.group(1)\n",
    "    except Exception as e:\n",
    "        print(f\"Error retrieving version for {package}: {e}\")\n",
    "    return None\n",
    "\n",
    "def generate_requirements(imports):\n",
    "    python_version = \".\".join(map(str, sys.version_info[:2]))\n",
    "    standard_libs = set(stdlib_list(python_version))\n",
    "\n",
    "    requirements = []\n",
    "    for package in sorted(imports):\n",
    "        if package not in standard_libs:\n",
    "            # Map the import name to the package name if necessary\n",
    "            package_name = IMPORT_TO_PACKAGE_MAP.get(package, package)\n",
    "\n",
    "            version = get_installed_version(package_name)\n",
    "            if version:\n",
    "                requirements.append(f\"{package_name}=={version}\")\n",
    "            else:\n",
    "                requirements.append(package_name)\n",
    "    return requirements"
   ]
  },
  {
   "cell_type": "code",
   "execution_count": 5,
   "id": "62b35538-ef1c-489f-a35b-429219f71dde",
   "metadata": {},
   "outputs": [
    {
     "name": "stdout",
     "output_type": "stream",
     "text": [
      "Generated requirements.txt:\n",
      "gdown==4.6.0\n",
      "monai==1.1.0\n",
      "numpy==1.21.2\n",
      "pandas==1.4.1\n",
      "plug_ai==23.3a0\n",
      "requests==2.27.1\n",
      "ruamel.yaml==0.17.21\n",
      "setuptools==59.5.0\n",
      "torch==1.10.0a0+git302ee7b\n",
      "torchmed==0.0.1a0\n",
      "PyYAML==5.4.1\n"
     ]
    }
   ],
   "source": [
    "root_dir = os.getcwd()\n",
    "imports = find_imports(root_dir)\n",
    "requirements = generate_requirements(imports)\n",
    "print(\"Generated requirements.txt:\")\n",
    "print(\"\\n\".join(requirements))"
   ]
  },
  {
   "cell_type": "code",
   "execution_count": 7,
   "id": "a24d68eb-68f6-4a56-8918-5a0e36b8b1f2",
   "metadata": {},
   "outputs": [],
   "source": [
    "with open('requirements.txt', 'w') as f:\n",
    "    f.write('\\n'.join(requirements))"
   ]
  }
 ],
 "metadata": {
  "kernelspec": {
   "display_name": "Python 3 (ipykernel)",
   "language": "python",
   "name": "python3"
  },
  "language_info": {
   "codemirror_mode": {
    "name": "ipython",
    "version": 3
   },
   "file_extension": ".py",
   "mimetype": "text/x-python",
   "name": "python",
   "nbconvert_exporter": "python",
   "pygments_lexer": "ipython3",
   "version": "3.9.0"
  }
 },
 "nbformat": 4,
 "nbformat_minor": 5
}
