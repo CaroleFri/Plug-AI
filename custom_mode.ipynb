{
 "cells": [
  {
   "cell_type": "code",
   "execution_count": 2,
   "id": "046c8694-45e3-4df6-875d-0649fe4b2c95",
   "metadata": {},
   "outputs": [],
   "source": [
    "from plug_ai.models import ModelManager\n",
    "from plug_ai.data.dataset import get_dataset"
   ]
  },
  {
   "cell_type": "markdown",
   "id": "c80dd38b-b20d-4bfd-834b-e6221e9fe8bf",
   "metadata": {},
   "source": [
    "### Configuration"
   ]
  },
  {
   "cell_type": "code",
   "execution_count": 5,
   "id": "06819272-8224-4774-bfb7-37de5c4a8e86",
   "metadata": {},
   "outputs": [],
   "source": [
    "dataset_dir = \"/gpfswork/rech/ibu/commun/BraTS2021/BraTS2021_Training_Data/\"\n",
    "batch_size = 2\n",
    "limit_sample = 20"
   ]
  },
  {
   "cell_type": "code",
   "execution_count": 6,
   "id": "27053635-a90c-4fa0-85c2-07d79a18c977",
   "metadata": {},
   "outputs": [
    {
     "name": "stdout",
     "output_type": "stream",
     "text": [
      "loading dataset...\n",
      "got datalist, extract: \n",
      " {'channel_0': '/gpfswork/rech/ibu/commun/BraTS2021/BraTS2021_Training_Data/BraTS2021_00081/BraTS2021_00081_flair.nii.gz', 'channel_1': '/gpfswork/rech/ibu/commun/BraTS2021/BraTS2021_Training_Data/BraTS2021_00081/BraTS2021_00081_t1ce.nii.gz', 'channel_2': '/gpfswork/rech/ibu/commun/BraTS2021/BraTS2021_Training_Data/BraTS2021_00081/BraTS2021_00081_t2.nii.gz', 'channel_3': '/gpfswork/rech/ibu/commun/BraTS2021/BraTS2021_Training_Data/BraTS2021_00081/BraTS2021_00081_t1.nii.gz', 'label': '/gpfswork/rech/ibu/commun/BraTS2021/BraTS2021_Training_Data/BraTS2021_00081/BraTS2021_00081_seg.nii.gz'}\n"
     ]
    }
   ],
   "source": [
    "dataloader = get_dataset(dataset_dir, batch_size=batch_size, limit_sample=limit_sample)"
   ]
  },
  {
   "cell_type": "code",
   "execution_count": null,
   "id": "46cc3170-fcf4-4d1a-a32c-03b00b0f4820",
   "metadata": {},
   "outputs": [],
   "source": [
    "model_manager = ModelManager(config)"
   ]
  }
 ],
 "metadata": {
  "kernelspec": {
   "display_name": "pytorch-gpu-1.10.1+py3.9.7",
   "language": "python",
   "name": "pytorch-gpu-1.10.1_py3.9.7"
  },
  "language_info": {
   "codemirror_mode": {
    "name": "ipython",
    "version": 3
   },
   "file_extension": ".py",
   "mimetype": "text/x-python",
   "name": "python",
   "nbconvert_exporter": "python",
   "pygments_lexer": "ipython3",
   "version": "3.9.7"
  }
 },
 "nbformat": 4,
 "nbformat_minor": 5
}
