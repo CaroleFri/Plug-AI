{
 "cells": [
  {
   "cell_type": "code",
   "execution_count": 37,
   "id": "e758768a-4325-41f9-a384-b7bc0753423b",
   "metadata": {},
   "outputs": [
    {
     "name": "stdout",
     "output_type": "stream",
     "text": [
      "Overwriting plug_ai.slurm\n"
     ]
    }
   ],
   "source": [
    "%%writefile plug_ai.slurm\n",
    "#!/bin/bash\n",
    "#SBATCH --job-name=plug_ai\n",
    "#SBATCH --output=plug_ai.out\n",
    "#SBATCH --error=plug_ai.out\n",
    "#SBATCH --gres=gpu:1\n",
    "#SBATCH --ntasks-per-node=1\n",
    "#SBATCH --nodes=1\n",
    "#SBATCH --hint=nomultithread\n",
    "#SBATCH --time=00:50:00\n",
    "#SBATCH --qos=qos_gpu-dev\n",
    "#SBATCH --cpus-per-task=10\n",
    "#SBATCH --account=sos@v100\n",
    "#SBATCH -C v100-16g\n",
    "\n",
    "\n",
    "## load Pytorch module\n",
    "module purge\n",
    "\n",
    "module load pytorch-gpu/py3/1.10.1\n",
    "\n",
    "## launch script on every node\n",
    "set -x\n",
    "\n",
    "# code execution\n",
    "srun python ../plug_ai/__main__.py --config_file \"../config_exemples/config_Brats.yaml\""
   ]
  },
  {
   "cell_type": "code",
   "execution_count": 38,
   "id": "lonely-reduction",
   "metadata": {},
   "outputs": [
    {
     "name": "stdout",
     "output_type": "stream",
     "text": [
      "Submitted batch job 1381859\n"
     ]
    }
   ],
   "source": [
    "%%bash\n",
    "# submit job\n",
    "sbatch plug_ai.slurm"
   ]
  },
  {
   "cell_type": "code",
   "execution_count": 39,
   "id": "lesser-annual",
   "metadata": {},
   "outputs": [
    {
     "name": "stdout",
     "output_type": "stream",
     "text": [
      "             JOBID PARTITION     NAME     USER ST       TIME  NODES NODELIST(REASON)\n",
      "           1381859   gpu_p13  plug_ai  ssos022  R       1:29      1 r10i4n8\n",
      "[Epoch 1/1 |  Step_Epoch 2/8 | Loss 3.040724992752075]\n",
      "[Epoch 1/1 |  Step_Epoch 3/8 | Loss 3.0586326122283936]\n",
      "[Epoch 1/1 |  Step_Epoch 4/8 | Loss 3.02146053314209]\n",
      "[Epoch 1/1 |  Step_Epoch 5/8 | Loss 3.0172150135040283]\n",
      "[Epoch 1/1 |  Step_Epoch 6/8 | Loss 2.9689812660217285]\n",
      "[Epoch 1/1 |  Step_Epoch 7/8 | Loss 2.981983184814453]\n",
      "[Epoch 1/1 |  Step_Epoch 8/8 | Loss 2.988492965698242]\n",
      "Epoch 0 finished\n",
      "Execution over\n",
      ">>> Complete execution in: 0:00:23.562164\n"
     ]
    }
   ],
   "source": [
    "from threading import Event\n",
    "import signal\n",
    "from IPython.display import clear_output\n",
    "\n",
    "def quit(signo, _frame):\n",
    "    print(\"Interrupted by %d, shutting down\" % signo)\n",
    "    exit.set()\n",
    "\n",
    "for sig in ('TERM', 'HUP', 'INT'):\n",
    "    signal.signal(getattr(signal, 'SIG'+sig), quit);\n",
    "\n",
    "exit = Event()\n",
    "\n",
    "sq = !squeue -u $USER -n plug_ai\n",
    "tail = !tail plug_ai.out\n",
    "while len(sq) >= 2 and not exit.is_set():\n",
    "    \n",
    "    clear_output(wait=True)\n",
    "    print(sq[0], sq[1], sep='\\n')\n",
    "    print(*tail, sep='\\n')\n",
    "    \n",
    "    sq = !squeue -u $USER -n plug_ai\n",
    "    tail = !tail plug_ai.out\n",
    "\n",
    "    exit.wait(1)"
   ]
  },
  {
   "cell_type": "code",
   "execution_count": 9,
   "id": "civil-tobacco",
   "metadata": {},
   "outputs": [],
   "source": [
    "!scancel -u $USER -n plug_ai"
   ]
  },
  {
   "cell_type": "code",
   "execution_count": null,
   "id": "213b6c57-dec3-4fee-9982-3a662452ea0b",
   "metadata": {},
   "outputs": [],
   "source": []
  }
 ],
 "metadata": {
  "kernelspec": {
   "display_name": "Python3 (default)",
   "language": "python",
   "name": "python3"
  },
  "language_info": {
   "codemirror_mode": {
    "name": "ipython",
    "version": 3
   },
   "file_extension": ".py",
   "mimetype": "text/x-python",
   "name": "python",
   "nbconvert_exporter": "python",
   "pygments_lexer": "ipython3",
   "version": "3.9.0"
  }
 },
 "nbformat": 4,
 "nbformat_minor": 5
}
