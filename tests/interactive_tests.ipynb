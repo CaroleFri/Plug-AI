{
 "cells": [
  {
   "cell_type": "markdown",
   "id": "e89e04a8-e34c-4901-b787-448f0e92a0aa",
   "metadata": {
    "tags": []
   },
   "source": [
    "### Test CLI APP"
   ]
  },
  {
   "cell_type": "code",
   "execution_count": 10,
   "id": "b91e9a20-5e8e-4c29-823b-5bfb6a3b7f79",
   "metadata": {},
   "outputs": [
    {
     "name": "stdout",
     "output_type": "stream",
     "text": [
      "/gpfsdswork/projects/rech/ibu/ssos023/Plug-AI/tests\n"
     ]
    }
   ],
   "source": [
    "!pwd"
   ]
  },
  {
   "cell_type": "markdown",
   "id": "d0cef5c5-d61c-46e2-a9aa-b48edb49dff0",
   "metadata": {
    "tags": []
   },
   "source": [
    "#### CLI run"
   ]
  },
  {
   "cell_type": "code",
   "execution_count": 9,
   "id": "9c0d9198-841b-4f02-87e4-dc0bfa0ed26b",
   "metadata": {},
   "outputs": [
    {
     "name": "stdout",
     "output_type": "stream",
     "text": [
      "/gpfsdswork/projects/rech/ibu/ssos023/Plug-AI/config_exemples/config_Nonadjloss.yaml\n",
      "Plug-AI running with config:\n",
      "\t dataset : DecathlonT1\n",
      "\t dataset_kwargs : {'dataset_dir': '/gpfswork/rech/ibu/commun/Task01_BrainTumour/', 'download_dataset': False, 'transformation': 'remove_depth'}\n",
      "\t model : ModSegNet\n",
      "\t model_kwargs : {'num_classes': 5, 'checkpoint_path': './model_checkpoint', 'res_out': False, 'use_signature': False}\n",
      "\t nb_epoch : 1\n",
      "\t learning_rate : 5e-05\n",
      "\t device : cuda\n",
      "\t random_seed : 2022\n",
      "\t report_log : False\n",
      "\t loop : Default\n",
      "\t loop_kwargs : {'step': 'Default', 'step_kwargs': None}\n",
      "\t lr_scheduler : None\n",
      "\t lr_scheduler_kwargs : {'step_size': 2, 'verbose': True}\n",
      "\t config_file : ../config_exemples/config_Nonadjloss.yaml\n",
      "\t export_config : None\n",
      "\t mode : TRAINING\n",
      "\t verbose : FULL\n",
      "\t seed : None\n",
      "\t preprocess : None\n",
      "\t preprocess_kwargs : None\n",
      "\t generate_signature : True\n",
      "\t train_ratio : 1\n",
      "\t val_ratio : 0.2\n",
      "\t limit_sample : 20\n",
      "\t batch_size : 2\n",
      "\t shuffle : True\n",
      "\t drop_last : True\n",
      "\t optimizer : SGD\n",
      "\t optimizer_kwargs : {'lr': 0.0001, 'momentum': 0.99, 'weight_decay': 3e-05, 'nesterov': True}\n",
      "\t criterion : NonAdjLoss\n",
      "\t criterion_kwargs : {'nb_labels': 5}\n",
      "\t metric : None\n",
      "\t metric_kwargs : None\n",
      "==================================== Dataset initialization ... ====================================\n",
      "Running with interpreted config:\n",
      "\t {'dataset': 'DecathlonT1', 'dataset_kwargs': {'dataset_dir': '/gpfswork/rech/ibu/commun/Task01_BrainTumour/', 'download_dataset': False, 'transformation': 'remove_depth'}, 'preprocess': None, 'preprocess_kwargs': {}, 'mode': 'TRAINING', 'batch_size': 2, 'train_ratio': 1.0, 'val_ratio': 0.2, 'limit_sample': 20, 'shuffle': True, 'drop_last': True, 'seed': None, 'verbose': 'FULL'}\n",
      "Dataset type is valid\n",
      "loading dataset...\n",
      "got datalist, extract: \n",
      " {'channel_0': '/gpfswork/rech/ibu/commun/Task01_BrainTumour/imagesTr/BRATS_001.nii.gz', 'label': '/gpfswork/rech/ibu/commun/Task01_BrainTumour/labelsTr/BRATS_001.nii.gz'}\n",
      "keys: ['channel_0', 'label']\n",
      "DecathlonT1\n",
      "Loaded the dataset\n",
      "Using  20 elements of the full Dataset.\n",
      "Train, Val, Test sizes :  16 4 0\n",
      "===================================== Model initialization ... =====================================\n",
      "Running with interpreted config:\n",
      "\t {'model': 'ModSegNet', 'model_kwargs': {'num_classes': 5, 'checkpoint_path': './model_checkpoint', 'res_out': False, 'use_signature': False}, 'device': 'cuda', 'mode': 'TRAINING', 'verbose': 'FULL', 'model_name': 'ModSegNet'}\n",
      "Model type is valid\n",
      "Model preparation done!\n",
      "=================================== Execution initialization ... ===================================\n",
      "Running with interpreted config:\n",
      "\t {'loop': <class 'plug_ai.runners.trainer.Default_Trainer'>, 'loop_kwargs': {'step': 'Default', 'step_kwargs': None}, 'mode': 'TRAINING', 'nb_epoch': 1, 'device': 'cuda', 'seed': None, 'report_log': False, 'criterion': <class 'plug_ai.loss.NonAdjLoss.NonAdjLoss'>, 'metric': None, 'criterion_kwargs': {'nb_labels': 5}, 'metric_kwargs': {}, 'optimizer': <class 'torch.optim.sgd.SGD'>, 'optimizer_kwargs': {'lr': 0.0001, 'momentum': 0.99, 'weight_decay': 3e-05, 'nesterov': True}, 'lr_scheduler': {'scheduler': None, 'scheduler_update': None}, 'lr_scheduler_kwargs': {'step_size': 2, 'verbose': True}, 'verbose': 'FULL', 'dataset_manager': <plug_ai.managers.managers.DatasetManager object at 0x151aa39dd8e0>, 'model_manager': <plug_ai.managers.managers.ModelManager object at 0x151aa39dd700>}\n",
      "TRAINING MODE : \n",
      "dict_keys(['model', 'criterion', 'metric_kwargs', 'verbose', 'lr_scheduler_kwargs', 'optimizer_kwargs', 'val_loader', 'lr_scheduler', 'metric', 'criterion_kwargs', 'nb_epoch', 'step_kwargs', 'optimizer', 'device', 'train_loader'])\n",
      "Training ...\n",
      "Criterion is : NonAdjLoss(\n",
      "  (_conv_layer): Conv2d(5, 5, kernel_size=(3, 3), stride=(1, 1), groups=5, bias=False)\n",
      "  (_pad_layer): ZeroPad2d(padding=(1, 1, 1, 1), value=0.0)\n",
      ")\n",
      "Metric is : None\n",
      "Optimizer is : SGD (\n",
      "Parameter Group 0\n",
      "    dampening: 0\n",
      "    lr: 0.0001\n",
      "    momentum: 0.99\n",
      "    nesterov: True\n",
      "    weight_decay: 3e-05\n",
      ")\n",
      "Learning Rate Scheduler is : None\n",
      "start training loop, 8 steps per epoch\n",
      "[Epoch 1/1 |  Step_Epoch 1/8 | Loss 6.665407657623291]\n",
      "[Epoch 1/1 |  Step_Epoch 2/8 | Loss 11.08915901184082]\n",
      "[Epoch 1/1 |  Step_Epoch 3/8 | Loss 5.846151828765869]\n",
      "[Epoch 1/1 |  Step_Epoch 4/8 | Loss 1.257278323173523]\n",
      "[Epoch 1/1 |  Step_Epoch 5/8 | Loss 0.4695267379283905]\n",
      "[Epoch 1/1 |  Step_Epoch 6/8 | Loss 0.27137428522109985]\n",
      "[Epoch 1/1 |  Step_Epoch 7/8 | Loss 0.2031220644712448]\n",
      "[Epoch 1/1 |  Step_Epoch 8/8 | Loss 0.21021048724651337]\n",
      "Epoch 0 finished\n",
      "Execution over\n",
      ">>> Complete execution in: 0:00:21.306868\n"
     ]
    }
   ],
   "source": [
    "!python -m plug_ai --config_file ../config_exemples/config_Nonadjloss.yaml "
   ]
  },
  {
   "cell_type": "markdown",
   "id": "a31e0ecc-7533-44cf-97f3-0d103475a7b2",
   "metadata": {
    "tags": []
   },
   "source": [
    "#### CLI help"
   ]
  },
  {
   "cell_type": "code",
   "execution_count": 5,
   "id": "97fa8162-f414-44e0-893c-c38bfabc0556",
   "metadata": {},
   "outputs": [
    {
     "name": "stdout",
     "output_type": "stream",
     "text": [
      "usage: __main__.py [-h] [--dataset DATASET] [--dataset_kwargs DATASET_KWARGS]\n",
      "                   [--preprocess PREPROCESS]\n",
      "                   [--preprocess_kwargs PREPROCESS_KWARGS]\n",
      "                   [--batch_size BATCH_SIZE] [--train_ratio TRAIN_RATIO]\n",
      "                   [--val_ratio VAL_RATIO] [--limit_sample LIMIT_SAMPLE]\n",
      "                   [--shuffle SHUFFLE] [--drop_last DROP_LAST] [--model MODEL]\n",
      "                   [--model_kwargs MODEL_KWARGS] [--loop LOOP]\n",
      "                   [--loop_kwargs LOOP_KWARGS] [--nb_epoch NB_EPOCH]\n",
      "                   [--device DEVICE] [--report_log REPORT_LOG]\n",
      "                   [--criterion CRITERION]\n",
      "                   [--criterion_kwargs CRITERION_KWARGS] [--metric METRIC]\n",
      "                   [--metric_kwargs METRIC_KWARGS] [--optimizer OPTIMIZER]\n",
      "                   [--optimizer_kwargs OPTIMIZER_KWARGS]\n",
      "                   [--lr_scheduler LR_SCHEDULER]\n",
      "                   [--lr_scheduler_kwargs LR_SCHEDULER_KWARGS]\n",
      "                   [--config_file CONFIG_FILE] [--export_config EXPORT_CONFIG]\n",
      "                   [--mode MODE] [--seed SEED] [--verbose VERBOSE]\n",
      "\n",
      "optional arguments:\n",
      "  -h, --help            show this help message and exit\n",
      "\n",
      "Data arguments:\n",
      "  --dataset DATASET     A dataset name in the valid list of of datasets\n",
      "                        supported by Plug_ai\n",
      "  --dataset_kwargs DATASET_KWARGS\n",
      "                        The dictionnary of args to use that are necessary for\n",
      "                        dataset\n",
      "  --preprocess PREPROCESS\n",
      "                        A valid preprocessing pipeline name provided by\n",
      "                        plug_ai\n",
      "  --preprocess_kwargs PREPROCESS_KWARGS\n",
      "                        A dictionnary of args that are given to the processing\n",
      "                        pipeline\n",
      "  --batch_size BATCH_SIZE\n",
      "                        Number of samples to load per batch\n",
      "  --train_ratio TRAIN_RATIO\n",
      "                        Float : The fraction of the dataset to use for\n",
      "                        training, the rest will be used for final evaluation\n",
      "  --val_ratio VAL_RATIO\n",
      "                        Float : The fraction of the train set to use for\n",
      "                        validation (hp tuning)\n",
      "  --limit_sample LIMIT_SAMPLE\n",
      "                        Index value at which to stop when considering the\n",
      "                        dataset\n",
      "  --shuffle SHUFFLE     Boolean that indicates if the dataset should be\n",
      "                        shuffled at each epoch\n",
      "  --drop_last DROP_LAST\n",
      "                        Boolean that indicates if the last batch of an epoch\n",
      "                        should be left unused when incomplete.\n",
      "\n",
      "Model arguments:\n",
      "  --model MODEL         A model in the valid list of supported model or a\n",
      "                        callable that instantiate a Pytorch/Monai model\n",
      "  --model_kwargs MODEL_KWARGS\n",
      "                        Every arguments which should be passed to the model\n",
      "                        callable\n",
      "\n",
      "Execution arguments:\n",
      "  --loop LOOP\n",
      "  --loop_kwargs LOOP_KWARGS\n",
      "  --nb_epoch NB_EPOCH\n",
      "  --device DEVICE\n",
      "  --report_log REPORT_LOG\n",
      "  --criterion CRITERION\n",
      "  --criterion_kwargs CRITERION_KWARGS\n",
      "  --metric METRIC\n",
      "  --metric_kwargs METRIC_KWARGS\n",
      "  --optimizer OPTIMIZER\n",
      "  --optimizer_kwargs OPTIMIZER_KWARGS\n",
      "  --lr_scheduler LR_SCHEDULER\n",
      "  --lr_scheduler_kwargs LR_SCHEDULER_KWARGS\n",
      "\n",
      "Global arguments:\n",
      "  --config_file CONFIG_FILE\n",
      "                        Path : The config file to set parameters more easily\n",
      "  --export_config EXPORT_CONFIG\n",
      "                        Path : If given, save the full config(combining CLI\n",
      "                        and config file) at the given path\n",
      "  --mode MODE           String : A mode between \"TRAINING\", \"EVALUATION\" and\n",
      "                        \"INFERENCE\"\n",
      "  --seed SEED           Int : If given, sets random aspect by setting random\n",
      "                        numbers generators\n",
      "  --verbose VERBOSE     String or None: The level of verbose wanted. None,\n",
      "                        \"RESTRICTED\" or \"FULL\"\n"
     ]
    }
   ],
   "source": [
    "!python -m plug_ai -h"
   ]
  },
  {
   "cell_type": "markdown",
   "id": "acaeebab-1c70-41e2-8fcc-4f9e2e0bfc54",
   "metadata": {
    "tags": []
   },
   "source": [
    "### Test librairie"
   ]
  },
  {
   "cell_type": "code",
   "execution_count": 6,
   "id": "5c912e38-3e6d-4c34-835b-42c833876f19",
   "metadata": {},
   "outputs": [],
   "source": [
    "#Utile pour recharger la librairie sans relancer le kernel\n",
    "%load_ext autoreload\n",
    "%autoreload 2"
   ]
  },
  {
   "cell_type": "code",
   "execution_count": 7,
   "id": "85db1ba2-9466-42d0-b920-e10041c78d0a",
   "metadata": {},
   "outputs": [],
   "source": [
    "import plug_ai"
   ]
  }
 ],
 "metadata": {
  "kernelspec": {
   "display_name": "pytorch-gpu-1.10.1_py3.9.7",
   "language": "python",
   "name": "module-conda-env-pytorch-gpu-1.10.1_py3.9.7"
  },
  "language_info": {
   "codemirror_mode": {
    "name": "ipython",
    "version": 3
   },
   "file_extension": ".py",
   "mimetype": "text/x-python",
   "name": "python",
   "nbconvert_exporter": "python",
   "pygments_lexer": "ipython3",
   "version": "3.9.7"
  }
 },
 "nbformat": 4,
 "nbformat_minor": 5
}
