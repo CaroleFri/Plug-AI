{
 "cells": [
  {
   "cell_type": "markdown",
   "id": "3cdf13b4-88bf-4443-b8f2-0eb74d65e0cb",
   "metadata": {},
   "source": [
    "Pour le moment, pour mener les tests comme si c'était un package installé, export path dans le .bashrc ou sys.path.append dans les script pour importer plug_ai"
   ]
  },
  {
   "cell_type": "code",
   "execution_count": null,
   "id": "9280eb6b-be5e-40d9-a95c-ce6c2a7a6de9",
   "metadata": {},
   "outputs": [],
   "source": [
    "#import sys\n",
    "#sys.path.append('/gpfswork/rech/ibu/ssos023/Plug-AI')\n",
    "#!export PYTHONPATH=$PYTHONPATH:/gpfsdswork/projects/rech/ibu/ssos023/Plug-AI/plug_ai\n",
    "#!export PYTHONPATH=$PYTHONPATH:/gpfsdswork/projects/rech/ibu/ssos023/Plug-AI/"
   ]
  },
  {
   "cell_type": "markdown",
   "id": "f9cf1ae1-9c79-4ecf-b6c6-72baec1ad039",
   "metadata": {},
   "source": [
    "        print(config)WARNING: There is an issue on frontal nodes. Kernel dies and there is a cuda initialization (from where? apparently dynunet from monai.networks.nets import DynUNet) that fails"
   ]
  },
  {
   "cell_type": "markdown",
   "id": "f65e812d-3ce9-4c08-9da7-2ae5a33dd622",
   "metadata": {},
   "source": [
    "### Test cells (to be removed)"
   ]
  },
  {
   "cell_type": "code",
   "execution_count": null,
   "id": "4df34219-1a35-40b8-ab51-96735fb301ae",
   "metadata": {},
   "outputs": [],
   "source": [
    "# Maybe should we complete arguments list in cli automatically to include the dataset & model arguments\n",
    "# We can retrieve args (and types if defined) and add a fake init just like for managers to each dataset/model we define and have the manager inherit those args\n",
    "# For now, we add manually  (up to the user) those args in dataset_kwargs\n",
    "#monai.apps.DecathlonDataset.__init__.__code__.co_varnames\n",
    "#inspect.getfullargspec(monai.apps.DecathlonDataset.__init__)"
   ]
  },
  {
   "cell_type": "code",
   "execution_count": null,
   "id": "786caee7-3ab0-43dc-aaa7-10552338eb56",
   "metadata": {},
   "outputs": [],
   "source": [
    "import nnunet\n",
    "from nnunet.experiment_planning.nnUNet_plan_and_preprocess import main as test_fun"
   ]
  },
  {
   "cell_type": "code",
   "execution_count": null,
   "id": "21b722cd-95e5-43b1-a9fd-8e7bcfe89561",
   "metadata": {},
   "outputs": [],
   "source": [
    "!export nnUNet_raw_data_base=\"/gpfswork/rech/ibu/commun/\"\n",
    "!export nnUNet_preprocessed=\"/gpfswork/rech/ibu/commun/nnUNet_preprocessed\"\n",
    "!export RESULTS_FOLDER=\"/gpfswork/rech/ibu/commun/nnUNet_trained_models\""
   ]
  },
  {
   "cell_type": "code",
   "execution_count": null,
   "id": "cb2560d4-8fab-4c17-88bc-7c3d0135910b",
   "metadata": {},
   "outputs": [],
   "source": [
    "!nnUNet_plan_and_preprocess -t 001 --verify_dataset_integrity"
   ]
  },
  {
   "cell_type": "code",
   "execution_count": null,
   "id": "14e8af70-2cc2-4137-8f2a-c691d5a9f10f",
   "metadata": {},
   "outputs": [],
   "source": [
    "\n",
    "#monai.apps.MedNISTDataset(root_dir = \"/gpfswork/rech/ibu/commun/datasets\", \n",
    "#                  section = \"training\",\n",
    "#                  download=download)\n",
    "MedNIST(dataset_dir = , download_dataset=False)"
   ]
  },
  {
   "cell_type": "code",
   "execution_count": 6,
   "id": "511604a2-59f7-4878-a97f-3afe7d6288bc",
   "metadata": {},
   "outputs": [],
   "source": [
    "import monai"
   ]
  },
  {
   "cell_type": "markdown",
   "id": "e89e04a8-e34c-4901-b787-448f0e92a0aa",
   "metadata": {
    "tags": []
   },
   "source": [
    "### Test CLI APP"
   ]
  },
  {
   "cell_type": "markdown",
   "id": "d0cef5c5-d61c-46e2-a9aa-b48edb49dff0",
   "metadata": {
    "tags": []
   },
   "source": [
    "#### CLI run"
   ]
  },
  {
   "cell_type": "code",
   "execution_count": 1,
   "id": "9c0d9198-841b-4f02-87e4-dc0bfa0ed26b",
   "metadata": {},
   "outputs": [
    {
     "name": "stdout",
     "output_type": "stream",
     "text": [
      "IDRIS WARNING: can't determine process local rank for CUDA initialisation. No GPU available and/or no Slurm context defined.\n",
      "--------------------------------------------------------------------------\n",
      "The library attempted to open the following supporting CUDA libraries,\n",
      "but each of them failed.  CUDA-aware support is disabled.\n",
      "libcuda.so.1: cannot open shared object file: No such file or directory\n",
      "libcuda.dylib: cannot open shared object file: No such file or directory\n",
      "/usr/lib64/libcuda.so.1: cannot open shared object file: No such file or directory\n",
      "/usr/lib64/libcuda.dylib: cannot open shared object file: No such file or directory\n",
      "If you are not interested in CUDA-aware support, then run with\n",
      "--mca opal_warn_on_missing_libcuda 0 to suppress this message.  If you are interested\n",
      "in CUDA-aware support, then try setting LD_LIBRARY_PATH to the location\n",
      "of libcuda.so.1 to get passed this issue.\n",
      "--------------------------------------------------------------------------\n",
      "default config path /gpfsdswork/projects/rech/ibu/ssos023/Plug-AI/plug_ai/utils/default_config.yaml\n",
      "Plug-AI running with config:\n",
      "\t dataset : BraTS\n",
      "\t dataset_kwargs : {'dataset_dir': '/gpfswork/rech/ibu/commun/BraTS2021/BraTS2021_Training_Data/', 'download_dataset': False, 'task': 'THIS IS A TEST', 'transformation': 'BraTS_transform'}\n",
      "\t preprocess : False\n",
      "\t preprocess_kwargs : None\n",
      "\t generate_signature : True\n",
      "\t train_ratio : 0.8\n",
      "\t val_ratio : 0\n",
      "\t limit_sample : 10\n",
      "\t batch_size : 2\n",
      "\t shuffle : True\n",
      "\t drop_last : True\n",
      "\t model : DynUnet\n",
      "\t model_kwargs : {'checkpoint_path': './model_checkpoint', 'res_out': False, 'use_signature': False}\n",
      "\t nb_epoch : 1\n",
      "\t learning_rate : 5e-05\n",
      "\t device : cpu\n",
      "\t random_seed : 2022\n",
      "\t report_log : False\n",
      "\t loop : Default\n",
      "\t loop_kwargs : {'step': 'Default', 'step_kwargs': None}\n",
      "\t optimizer : SGD\n",
      "\t optimizer_kwargs : {'lr': 0.0001, 'momentum': 0.99, 'weight_decay': 3e-05, 'nesterov': True}\n",
      "\t criterion : DiceCELoss\n",
      "\t criterion_kwargs : {'to_onehot_y': True, 'softmax': True}\n",
      "\t config_file : None\n",
      "\t export_config : /gpfsdswork/projects/rech/ibu/ssos023/Plug-AI/tests/config_saved_test.yaml\n",
      "\t mode : TRAINING\n",
      "\t verbose : FULL\n",
      "\t seed : None\n",
      "==================================== Dataset initialization ... ====================================\n",
      "Running with interpreted config:\n",
      "\t {'dataset': 'BraTS', 'dataset_kwargs': {'dataset_dir': '/gpfswork/rech/ibu/commun/BraTS2021/BraTS2021_Training_Data/', 'download_dataset': False, 'task': 'THIS IS A TEST', 'transformation': 'BraTS_transform'}, 'preprocess': 'False', 'preprocess_kwargs': {}, 'mode': 'TRAINING', 'batch_size': 2, 'train_ratio': 0.8, 'val_ratio': 0.0, 'limit_sample': 10, 'shuffle': True, 'drop_last': True, 'seed': None, 'verbose': 'FULL'}\n",
      "Preprocessing the dataset\n",
      "Dataset type is valid\n",
      "loading dataset...\n",
      "got datalist, extract: \n",
      " {'channel_0': '/gpfswork/rech/ibu/commun/BraTS2021/BraTS2021_Training_Data/BraTS2021_00081/BraTS2021_00081_flair.nii.gz', 'channel_1': '/gpfswork/rech/ibu/commun/BraTS2021/BraTS2021_Training_Data/BraTS2021_00081/BraTS2021_00081_t1ce.nii.gz', 'channel_2': '/gpfswork/rech/ibu/commun/BraTS2021/BraTS2021_Training_Data/BraTS2021_00081/BraTS2021_00081_t2.nii.gz', 'channel_3': '/gpfswork/rech/ibu/commun/BraTS2021/BraTS2021_Training_Data/BraTS2021_00081/BraTS2021_00081_t1.nii.gz', 'label': '/gpfswork/rech/ibu/commun/BraTS2021/BraTS2021_Training_Data/BraTS2021_00081/BraTS2021_00081_seg.nii.gz'}\n",
      "keys: ['channel_0', 'channel_1', 'channel_2', 'channel_3', 'label']\n",
      "Using  10 elements of the full Dataset.\n",
      "Train, Val, Test sizes :  8 0 2\n",
      "===================================== Model initialization ... =====================================\n",
      "Running with interpreted config:\n",
      "\t {'model': 'DynUnet', 'model_kwargs': {'checkpoint_path': './model_checkpoint', 'res_out': False, 'use_signature': False}, 'mode': 'TRAINING', 'verbose': 'FULL'}\n",
      "Model type is valid\n",
      "Model preparation done!\n",
      "=================================== Execution initialization ... ===================================\n",
      "Running with interpreted config:\n",
      "\t {'loop': <class 'plug_ai.runners.trainer.Default_Trainer'>, 'loop_kwargs': {'step': 'Default', 'step_kwargs': None}, 'mode': 'TRAINING', 'nb_epoch': 1, 'learning_rate': 5e-05, 'device': 'cpu', 'seed': None, 'report_log': False, 'criterion': <class 'monai.losses.dice.DiceCELoss'>, 'criterion_kwargs': {'to_onehot_y': True, 'softmax': True}, 'optimizer': <class 'torch.optim.sgd.SGD'>, 'optimizer_kwargs': {'lr': 0.0001, 'momentum': 0.99, 'weight_decay': 3e-05, 'nesterov': True}, 'verbose': 'FULL', 'dataset_manager': <plug_ai.managers.managers.DatasetManager object at 0x7f0966e37100>, 'model_manager': <plug_ai.managers.managers.ModelManager object at 0x7f0f63f017c0>}\n",
      "TRAINING MODE : \n",
      "dict_keys(['step_kwargs', 'criterion', 'optimizer_kwargs', 'optimizer', 'train_loader', 'nb_epoch', 'device', 'model', 'verbose', 'criterion_kwargs'])\n",
      "Training ...\n",
      "Criterion is : DiceCELoss(\n",
      "  (dice): DiceLoss()\n",
      "  (cross_entropy): CrossEntropyLoss()\n",
      ")\n",
      "Optimizer is : SGD (\n",
      "Parameter Group 0\n",
      "    dampening: 0\n",
      "    lr: 0.0001\n",
      "    momentum: 0.99\n",
      "    nesterov: True\n",
      "    weight_decay: 3e-05\n",
      ")\n",
      "start training loop, 4 steps per epoch\n"
     ]
    }
   ],
   "source": [
    "!python -m plug_ai --export_config config_saved_test.yaml --dataset BraTS"
   ]
  },
  {
   "cell_type": "markdown",
   "id": "a31e0ecc-7533-44cf-97f3-0d103475a7b2",
   "metadata": {
    "tags": []
   },
   "source": [
    "#### CLI help"
   ]
  },
  {
   "cell_type": "code",
   "execution_count": 2,
   "id": "97fa8162-f414-44e0-893c-c38bfabc0556",
   "metadata": {},
   "outputs": [
    {
     "name": "stdout",
     "output_type": "stream",
     "text": [
      "usage: __main__.py [-h] [--dataset DATASET] [--dataset_kwargs DATASET_KWARGS]\n",
      "                   [--preprocess PREPROCESS]\n",
      "                   [--preprocess_kwargs PREPROCESS_KWARGS]\n",
      "                   [--batch_size BATCH_SIZE] [--train_ratio TRAIN_RATIO]\n",
      "                   [--val_ratio VAL_RATIO] [--limit_sample LIMIT_SAMPLE]\n",
      "                   [--shuffle SHUFFLE] [--drop_last DROP_LAST] [--model MODEL]\n",
      "                   [--model_kwargs MODEL_KWARGS] [--loop LOOP]\n",
      "                   [--loop_kwargs LOOP_KWARGS] [--nb_epoch NB_EPOCH]\n",
      "                   [--learning_rate LEARNING_RATE] [--device DEVICE]\n",
      "                   [--report_log REPORT_LOG] [--criterion CRITERION]\n",
      "                   [--criterion_kwargs CRITERION_KWARGS]\n",
      "                   [--optimizer OPTIMIZER]\n",
      "                   [--optimizer_kwargs OPTIMIZER_KWARGS]\n",
      "                   [--config_file CONFIG_FILE] [--export_config EXPORT_CONFIG]\n",
      "                   [--mode MODE] [--seed SEED] [--verbose VERBOSE]\n",
      "\n",
      "optional arguments:\n",
      "  -h, --help            show this help message and exit\n",
      "\n",
      "Data arguments:\n",
      "  --dataset DATASET     A dataset name in the valid list of of datasets\n",
      "                        supported by Plug_ai\n",
      "  --dataset_kwargs DATASET_KWARGS\n",
      "                        The dictionnary of args to use that are necessary for\n",
      "                        dataset\n",
      "  --preprocess PREPROCESS\n",
      "                        A valid preprocessing pipeline name provided by\n",
      "                        plug_ai\n",
      "  --preprocess_kwargs PREPROCESS_KWARGS\n",
      "                        A dictionnary of args that are given to the processing\n",
      "                        pipeline\n",
      "  --batch_size BATCH_SIZE\n",
      "                        Number of samples to load per batch\n",
      "  --train_ratio TRAIN_RATIO\n",
      "                        Float : The fraction of the dataset to use for\n",
      "                        training, the rest will be used for final evaluation\n",
      "  --val_ratio VAL_RATIO\n",
      "                        Float : The fraction of the train set to use for\n",
      "                        validation (hp tuning)\n",
      "  --limit_sample LIMIT_SAMPLE\n",
      "                        Index value at which to stop when considering the\n",
      "                        dataset\n",
      "  --shuffle SHUFFLE     Boolean that indicates if the dataset should be\n",
      "                        shuffled at each epoch\n",
      "  --drop_last DROP_LAST\n",
      "                        Boolean that indicates if the last batch of an epoch\n",
      "                        should be left unused when incomplete.\n",
      "\n",
      "Model arguments:\n",
      "  --model MODEL         A model in the valid list of supported model or a\n",
      "                        callable that instantiate a Pytorch/Monai model\n",
      "  --model_kwargs MODEL_KWARGS\n",
      "                        Every arguments which should be passed to the model\n",
      "                        callable\n",
      "\n",
      "Execution arguments:\n",
      "  --loop LOOP\n",
      "  --loop_kwargs LOOP_KWARGS\n",
      "  --nb_epoch NB_EPOCH\n",
      "  --learning_rate LEARNING_RATE\n",
      "                        Learning rate\n",
      "  --device DEVICE\n",
      "  --report_log REPORT_LOG\n",
      "  --criterion CRITERION\n",
      "  --criterion_kwargs CRITERION_KWARGS\n",
      "  --optimizer OPTIMIZER\n",
      "  --optimizer_kwargs OPTIMIZER_KWARGS\n",
      "\n",
      "Global arguments:\n",
      "  --config_file CONFIG_FILE\n",
      "                        Path : The config file to set parameters more easily\n",
      "  --export_config EXPORT_CONFIG\n",
      "                        Path : If given, save the full config(combining CLI\n",
      "                        and config file) at the given path\n",
      "  --mode MODE           String : A mode between \"TRAINING\", \"EVALUATION\" and\n",
      "                        \"INFERENCE\"\n",
      "  --seed SEED           Int : If given, sets random aspect by setting random\n",
      "                        numbers generators\n",
      "  --verbose VERBOSE     String or None: The level of verbose wanted. None,\n",
      "                        \"RESTRICTED\" or \"FULL\"\n"
     ]
    }
   ],
   "source": [
    "!python -m plug_ai -h"
   ]
  },
  {
   "cell_type": "markdown",
   "id": "acaeebab-1c70-41e2-8fcc-4f9e2e0bfc54",
   "metadata": {
    "tags": []
   },
   "source": [
    "### Test librairie (WIP)"
   ]
  },
  {
   "cell_type": "code",
   "execution_count": null,
   "id": "85db1ba2-9466-42d0-b920-e10041c78d0a",
   "metadata": {},
   "outputs": [],
   "source": [
    "import plug_ai"
   ]
  },
  {
   "cell_type": "code",
   "execution_count": null,
   "id": "f144c1a5-c624-4bda-843a-adbf6555e1a4",
   "metadata": {},
   "outputs": [],
   "source": [
    "from plug_ai.data.dataset import get_dataset\n",
    "train_loader = get_dataset(args[\"dataset_dir\"], batch_size=args[\"batch_size\"], limit_sample=args[\"limit_sample\"])"
   ]
  },
  {
   "cell_type": "code",
   "execution_count": null,
   "id": "e1f3fe0f-9dc3-4380-a3d1-cf40b8c81f4c",
   "metadata": {
    "tags": []
   },
   "outputs": [],
   "source": [
    "plug_ai.data.dataset.datasets"
   ]
  },
  {
   "cell_type": "code",
   "execution_count": null,
   "id": "5c912e38-3e6d-4c34-835b-42c833876f19",
   "metadata": {},
   "outputs": [],
   "source": [
    "#Utile pour recharger la librairie sans relancer le kernel\n",
    "%load_ext autoreload\n",
    "%autoreload 2"
   ]
  },
  {
   "cell_type": "code",
   "execution_count": null,
   "id": "874d2d20-6b8d-4193-98a9-4fad5817f2ae",
   "metadata": {},
   "outputs": [],
   "source": [
    "import monai\n",
    "import inspect"
   ]
  }
 ],
 "metadata": {
  "kernelspec": {
   "display_name": "Python 3 (ipykernel)",
   "language": "python",
   "name": "python3"
  },
  "language_info": {
   "codemirror_mode": {
    "name": "ipython",
    "version": 3
   },
   "file_extension": ".py",
   "mimetype": "text/x-python",
   "name": "python",
   "nbconvert_exporter": "python",
   "pygments_lexer": "ipython3",
   "version": "3.9.7"
  }
 },
 "nbformat": 4,
 "nbformat_minor": 5
}
