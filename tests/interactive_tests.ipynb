{
 "cells": [
  {
   "cell_type": "markdown",
   "id": "e89e04a8-e34c-4901-b787-448f0e92a0aa",
   "metadata": {
    "tags": []
   },
   "source": [
    "### Test CLI APP"
   ]
  },
  {
   "cell_type": "code",
   "execution_count": 10,
   "id": "b91e9a20-5e8e-4c29-823b-5bfb6a3b7f79",
   "metadata": {},
   "outputs": [
    {
     "name": "stdout",
     "output_type": "stream",
     "text": [
      "/gpfsdswork/projects/rech/ibu/ssos023/Plug-AI/tests\n"
     ]
    }
   ],
   "source": [
    "!pwd"
   ]
  },
  {
   "cell_type": "markdown",
   "id": "d0cef5c5-d61c-46e2-a9aa-b48edb49dff0",
   "metadata": {
    "tags": []
   },
   "source": [
    "#### CLI run"
   ]
  },
  {
   "cell_type": "code",
   "execution_count": null,
   "id": "9c0d9198-841b-4f02-87e4-dc0bfa0ed26b",
   "metadata": {},
   "outputs": [
    {
     "name": "stdout",
     "output_type": "stream",
     "text": [
      "/gpfsdswork/projects/rech/ibu/ssos023/Plug-AI/config_exemples/config_Brats.yaml\n",
      "Plug-AI running with config:\n",
      "\t dataset : BraTS\n",
      "\t dataset_kwargs : {'dataset_dir': '/gpfswork/rech/ibu/commun/BraTS2021/BraTS2021_Training_Data/', 'download_dataset': False, 'transformation': 'BraTS_transform'}\n",
      "\t model : DynUnet\n",
      "\t model_kwargs : {'checkpoint_path': './model_checkpoint', 'res_out': False, 'use_signature': False}\n",
      "\t nb_epoch : 10\n",
      "\t learning_rate : 5e-05\n",
      "\t device : cuda\n",
      "\t random_seed : 2022\n",
      "\t report_log : False\n",
      "\t loop : Default\n",
      "\t loop_kwargs : {'step': 'Default', 'step_kwargs': None}\n",
      "\t lr_scheduler : None\n",
      "\t lr_scheduler_kwargs : {'step_size': 2, 'verbose': True}\n",
      "\t config_file : ../config_exemples/config_Brats.yaml\n",
      "\t export_config : None\n",
      "\t mode : TRAINING\n",
      "\t verbose : FULL\n",
      "\t seed : None\n",
      "\t preprocess : None\n",
      "\t preprocess_kwargs : None\n",
      "\t generate_signature : True\n",
      "\t train_ratio : 1\n",
      "\t val_ratio : 0.2\n",
      "\t limit_sample : 20\n",
      "\t batch_size : 2\n",
      "\t shuffle : True\n",
      "\t drop_last : True\n",
      "\t optimizer : SGD\n",
      "\t optimizer_kwargs : {'lr': 0.0001, 'momentum': 0.99, 'weight_decay': 3e-05, 'nesterov': True}\n",
      "\t criterion : DiceCELoss\n",
      "\t criterion_kwargs : {'to_onehot_y': False, 'softmax': True}\n",
      "\t metric : MeanDice\n",
      "\t metric_kwargs : None\n",
      "==================================== Dataset initialization ... ====================================\n",
      "Running with interpreted config:\n",
      "\t {'dataset': 'BraTS', 'dataset_kwargs': {'dataset_dir': '/gpfswork/rech/ibu/commun/BraTS2021/BraTS2021_Training_Data/', 'download_dataset': False, 'transformation': 'BraTS_transform'}, 'preprocess': None, 'preprocess_kwargs': {}, 'mode': 'TRAINING', 'batch_size': 2, 'train_ratio': 1.0, 'val_ratio': 0.2, 'limit_sample': 20, 'shuffle': True, 'drop_last': True, 'seed': None, 'verbose': 'FULL'}\n",
      "Dataset type is valid\n",
      "loading dataset...\n",
      "got datalist, extract: \n",
      " {'channel_0': '/gpfswork/rech/ibu/commun/BraTS2021/BraTS2021_Training_Data/BraTS2021_00081/BraTS2021_00081_flair.nii.gz', 'channel_1': '/gpfswork/rech/ibu/commun/BraTS2021/BraTS2021_Training_Data/BraTS2021_00081/BraTS2021_00081_t1ce.nii.gz', 'channel_2': '/gpfswork/rech/ibu/commun/BraTS2021/BraTS2021_Training_Data/BraTS2021_00081/BraTS2021_00081_t2.nii.gz', 'channel_3': '/gpfswork/rech/ibu/commun/BraTS2021/BraTS2021_Training_Data/BraTS2021_00081/BraTS2021_00081_t1.nii.gz', 'label': '/gpfswork/rech/ibu/commun/BraTS2021/BraTS2021_Training_Data/BraTS2021_00081/BraTS2021_00081_seg.nii.gz'}\n",
      "keys: ['channel_0', 'channel_1', 'channel_2', 'channel_3', 'label']\n",
      "BraTS\n",
      "Loaded the dataset\n",
      "Using  20 elements of the full Dataset.\n",
      "Train, Val, Test sizes :  16 4 0\n",
      "===================================== Model initialization ... =====================================\n",
      "Running with interpreted config:\n",
      "\t {'model': 'DynUnet', 'model_kwargs': {'checkpoint_path': './model_checkpoint', 'res_out': False, 'use_signature': False}, 'device': 'cuda', 'mode': 'TRAINING', 'verbose': 'FULL', 'model_name': 'DynUnet'}\n",
      "Model type is valid\n",
      "Model preparation done!\n",
      "=================================== Execution initialization ... ===================================\n",
      "Running with interpreted config:\n",
      "\t {'loop': <class 'plug_ai.runners.trainer.Default_Trainer'>, 'loop_kwargs': {'step': 'Default', 'step_kwargs': None}, 'mode': 'TRAINING', 'nb_epoch': 10, 'device': 'cuda', 'seed': None, 'report_log': False, 'criterion': <class 'monai.losses.dice.DiceCELoss'>, 'metric': <class 'monai.metrics.meandice.DiceMetric'>, 'criterion_kwargs': {'to_onehot_y': False, 'softmax': True}, 'metric_kwargs': {}, 'optimizer': <class 'torch.optim.sgd.SGD'>, 'optimizer_kwargs': {'lr': 0.0001, 'momentum': 0.99, 'weight_decay': 3e-05, 'nesterov': True}, 'lr_scheduler': {'scheduler': None, 'scheduler_update': None}, 'lr_scheduler_kwargs': {'step_size': 2, 'verbose': True}, 'verbose': 'FULL', 'dataset_manager': <plug_ai.managers.managers.DatasetManager object at 0x14628caa6910>, 'model_manager': <plug_ai.managers.managers.ModelManager object at 0x14628caa67c0>}\n",
      "TRAINING MODE : \n",
      "dict_keys(['lr_scheduler_kwargs', 'nb_epoch', 'val_loader', 'criterion_kwargs', 'step_kwargs', 'device', 'optimizer_kwargs', 'train_loader', 'criterion', 'metric_kwargs', 'verbose', 'model', 'optimizer', 'lr_scheduler', 'metric'])\n",
      "Training ...\n",
      "Criterion is : DiceCELoss(\n",
      "  (dice): DiceLoss()\n",
      "  (cross_entropy): CrossEntropyLoss()\n",
      ")\n",
      "Metric is : <monai.metrics.meandice.DiceMetric object at 0x14627381e1c0>\n",
      "Optimizer is : SGD (\n",
      "Parameter Group 0\n",
      "    dampening: 0\n",
      "    lr: 0.0001\n",
      "    momentum: 0.99\n",
      "    nesterov: True\n",
      "    weight_decay: 3e-05\n",
      ")\n",
      "Learning Rate Scheduler is : None\n",
      "start training loop, 8 steps per epoch\n",
      "/linkhome/idris/genidr/ssos023/.local/lib/python3.9/site-packages/monai/losses/dice.py:708: UserWarning: Multichannel targets are not supported in this older Pytorch version 1.10.0a0+git302ee7b. Using argmax (as a workaround) to convert target to a single channel.\n",
      "  warnings.warn(\n",
      "[Epoch 1/10 |  Step_Epoch 1/8 | Loss 3.145397663116455]\n",
      "[Epoch 1/10 |  Step_Epoch 2/8 | Loss 3.188363552093506]\n",
      "[Epoch 1/10 |  Step_Epoch 3/8 | Loss 3.138604164123535]\n",
      "[Epoch 1/10 |  Step_Epoch 4/8 | Loss 3.1482369899749756]\n",
      "[Epoch 1/10 |  Step_Epoch 5/8 | Loss 3.1290903091430664]\n",
      "[Epoch 1/10 |  Step_Epoch 6/8 | Loss 3.1421992778778076]\n"
     ]
    }
   ],
   "source": [
    "!python -m plug_ai --config_file ../config_exemples/config_Brats.yaml "
   ]
  },
  {
   "cell_type": "markdown",
   "id": "a31e0ecc-7533-44cf-97f3-0d103475a7b2",
   "metadata": {
    "tags": []
   },
   "source": [
    "#### CLI help"
   ]
  },
  {
   "cell_type": "code",
   "execution_count": 2,
   "id": "97fa8162-f414-44e0-893c-c38bfabc0556",
   "metadata": {},
   "outputs": [
    {
     "name": "stdout",
     "output_type": "stream",
     "text": [
      "usage: __main__.py [-h] [--dataset DATASET] [--dataset_kwargs DATASET_KWARGS]\n",
      "                   [--preprocess PREPROCESS]\n",
      "                   [--preprocess_kwargs PREPROCESS_KWARGS]\n",
      "                   [--batch_size BATCH_SIZE] [--train_ratio TRAIN_RATIO]\n",
      "                   [--val_ratio VAL_RATIO] [--limit_sample LIMIT_SAMPLE]\n",
      "                   [--shuffle SHUFFLE] [--drop_last DROP_LAST] [--model MODEL]\n",
      "                   [--model_kwargs MODEL_KWARGS] [--loop LOOP]\n",
      "                   [--loop_kwargs LOOP_KWARGS] [--nb_epoch NB_EPOCH]\n",
      "                   [--device DEVICE] [--report_log REPORT_LOG]\n",
      "                   [--criterion CRITERION]\n",
      "                   [--criterion_kwargs CRITERION_KWARGS] [--metric METRIC]\n",
      "                   [--metric_kwargs METRIC_KWARGS] [--optimizer OPTIMIZER]\n",
      "                   [--optimizer_kwargs OPTIMIZER_KWARGS]\n",
      "                   [--lr_scheduler LR_SCHEDULER]\n",
      "                   [--lr_scheduler_kwargs LR_SCHEDULER_KWARGS]\n",
      "                   [--config_file CONFIG_FILE] [--export_config EXPORT_CONFIG]\n",
      "                   [--mode MODE] [--seed SEED] [--verbose VERBOSE]\n",
      "\n",
      "optional arguments:\n",
      "  -h, --help            show this help message and exit\n",
      "\n",
      "Data arguments:\n",
      "  --dataset DATASET     A dataset name in the valid list of of datasets\n",
      "                        supported by Plug_ai\n",
      "  --dataset_kwargs DATASET_KWARGS\n",
      "                        The dictionnary of args to use that are necessary for\n",
      "                        dataset\n",
      "  --preprocess PREPROCESS\n",
      "                        A valid preprocessing pipeline name provided by\n",
      "                        plug_ai\n",
      "  --preprocess_kwargs PREPROCESS_KWARGS\n",
      "                        A dictionnary of args that are given to the processing\n",
      "                        pipeline\n",
      "  --batch_size BATCH_SIZE\n",
      "                        Number of samples to load per batch\n",
      "  --train_ratio TRAIN_RATIO\n",
      "                        Float : The fraction of the dataset to use for\n",
      "                        training, the rest will be used for final evaluation\n",
      "  --val_ratio VAL_RATIO\n",
      "                        Float : The fraction of the train set to use for\n",
      "                        validation (hp tuning)\n",
      "  --limit_sample LIMIT_SAMPLE\n",
      "                        Index value at which to stop when considering the\n",
      "                        dataset\n",
      "  --shuffle SHUFFLE     Boolean that indicates if the dataset should be\n",
      "                        shuffled at each epoch\n",
      "  --drop_last DROP_LAST\n",
      "                        Boolean that indicates if the last batch of an epoch\n",
      "                        should be left unused when incomplete.\n",
      "\n",
      "Model arguments:\n",
      "  --model MODEL         A model in the valid list of supported model or a\n",
      "                        callable that instantiate a Pytorch/Monai model\n",
      "  --model_kwargs MODEL_KWARGS\n",
      "                        Every arguments which should be passed to the model\n",
      "                        callable\n",
      "\n",
      "Execution arguments:\n",
      "  --loop LOOP\n",
      "  --loop_kwargs LOOP_KWARGS\n",
      "  --nb_epoch NB_EPOCH\n",
      "  --device DEVICE\n",
      "  --report_log REPORT_LOG\n",
      "  --criterion CRITERION\n",
      "  --criterion_kwargs CRITERION_KWARGS\n",
      "  --metric METRIC\n",
      "  --metric_kwargs METRIC_KWARGS\n",
      "  --optimizer OPTIMIZER\n",
      "  --optimizer_kwargs OPTIMIZER_KWARGS\n",
      "  --lr_scheduler LR_SCHEDULER\n",
      "  --lr_scheduler_kwargs LR_SCHEDULER_KWARGS\n",
      "\n",
      "Global arguments:\n",
      "  --config_file CONFIG_FILE\n",
      "                        Path : The config file to set parameters more easily\n",
      "  --export_config EXPORT_CONFIG\n",
      "                        Path : If given, save the full config(combining CLI\n",
      "                        and config file) at the given path\n",
      "  --mode MODE           String : A mode between \"TRAINING\", \"EVALUATION\" and\n",
      "                        \"INFERENCE\"\n",
      "  --seed SEED           Int : If given, sets random aspect by setting random\n",
      "                        numbers generators\n",
      "  --verbose VERBOSE     String or None: The level of verbose wanted. None,\n",
      "                        \"RESTRICTED\" or \"FULL\"\n"
     ]
    }
   ],
   "source": [
    "!python -m plug_ai -h"
   ]
  },
  {
   "cell_type": "markdown",
   "id": "acaeebab-1c70-41e2-8fcc-4f9e2e0bfc54",
   "metadata": {
    "tags": []
   },
   "source": [
    "### Test librairie"
   ]
  },
  {
   "cell_type": "code",
   "execution_count": 6,
   "id": "5c912e38-3e6d-4c34-835b-42c833876f19",
   "metadata": {},
   "outputs": [],
   "source": [
    "#Utile pour recharger la librairie sans relancer le kernel\n",
    "%load_ext autoreload\n",
    "%autoreload 2"
   ]
  },
  {
   "cell_type": "code",
   "execution_count": 7,
   "id": "85db1ba2-9466-42d0-b920-e10041c78d0a",
   "metadata": {},
   "outputs": [],
   "source": [
    "import plug_ai"
   ]
  }
 ],
 "metadata": {
  "kernelspec": {
   "display_name": "pytorch-gpu-1.10.1_py3.9.7",
   "language": "python",
   "name": "module-conda-env-pytorch-gpu-1.10.1_py3.9.7"
  },
  "language_info": {
   "codemirror_mode": {
    "name": "ipython",
    "version": 3
   },
   "file_extension": ".py",
   "mimetype": "text/x-python",
   "name": "python",
   "nbconvert_exporter": "python",
   "pygments_lexer": "ipython3",
   "version": "3.9.7"
  }
 },
 "nbformat": 4,
 "nbformat_minor": 5
}
