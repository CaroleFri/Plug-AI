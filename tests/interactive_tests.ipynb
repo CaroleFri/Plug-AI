{
 "cells": [
  {
   "cell_type": "markdown",
   "id": "3cdf13b4-88bf-4443-b8f2-0eb74d65e0cb",
   "metadata": {},
   "source": [
    "Pour le moment, pour mener les tests comme si c'était un package installé, export path dans le .bashrc ou sys.path.append dans les script pour importer plug_ai"
   ]
  },
  {
   "cell_type": "code",
   "execution_count": 1,
   "id": "9280eb6b-be5e-40d9-a95c-ce6c2a7a6de9",
   "metadata": {},
   "outputs": [],
   "source": [
    "#import sys\n",
    "#sys.path.append('/gpfswork/rech/ibu/ssos023/Plug-AI')\n",
    "#!export PYTHONPATH=$PYTHONPATH:/gpfsdswork/projects/rech/ibu/ssos023/Plug-AI/plug_ai\n",
    "#!export PYTHONPATH=$PYTHONPATH:/gpfsdswork/projects/rech/ibu/ssos023/Plug-AI/"
   ]
  },
  {
   "cell_type": "markdown",
   "id": "f9cf1ae1-9c79-4ecf-b6c6-72baec1ad039",
   "metadata": {},
   "source": [
    "        print(config)WARNING: There is an issue on frontal nodes. Kernel dies and there is a cuda initialization (from where? apparently dynunet from monai.networks.nets import DynUNet) that fails"
   ]
  },
  {
   "cell_type": "markdown",
   "id": "f65e812d-3ce9-4c08-9da7-2ae5a33dd622",
   "metadata": {},
   "source": [
    "### Test cells (to be removed)"
   ]
  },
  {
   "cell_type": "code",
   "execution_count": 2,
   "id": "4df34219-1a35-40b8-ab51-96735fb301ae",
   "metadata": {},
   "outputs": [],
   "source": [
    "# Maybe should we complete arguments list in cli automatically to include the dataset & model arguments\n",
    "# We can retrieve args (and types if defined) and add a fake init just like for managers to each dataset/model we define and have the manager inherit those args\n",
    "# For now, we add manually  (up to the user) those args in dataset_kwargs\n",
    "#monai.apps.DecathlonDataset.__init__.__code__.co_varnames\n",
    "#inspect.getfullargspec(monai.apps.DecathlonDataset.__init__)"
   ]
  },
  {
   "cell_type": "code",
   "execution_count": null,
   "id": "14e8af70-2cc2-4137-8f2a-c691d5a9f10f",
   "metadata": {},
   "outputs": [],
   "source": [
    "\n",
    "#monai.apps.MedNISTDataset(root_dir = \"/gpfswork/rech/ibu/commun/datasets\", \n",
    "#                  section = \"training\",\n",
    "#                  download=download)\n",
    "MedNIST(dataset_dir = , download_dataset=False)"
   ]
  },
  {
   "cell_type": "markdown",
   "id": "e89e04a8-e34c-4901-b787-448f0e92a0aa",
   "metadata": {
    "tags": []
   },
   "source": [
    "### Test CLI APP"
   ]
  },
  {
   "cell_type": "markdown",
   "id": "d0cef5c5-d61c-46e2-a9aa-b48edb49dff0",
   "metadata": {
    "tags": []
   },
   "source": [
    "#### CLI run"
   ]
  },
  {
   "cell_type": "code",
   "execution_count": 37,
   "id": "9c0d9198-841b-4f02-87e4-dc0bfa0ed26b",
   "metadata": {},
   "outputs": [
    {
     "name": "stdout",
     "output_type": "stream",
     "text": [
      "/gpfslocalsup/pub/anaconda-py3/2021.05/envs/pytorch-gpu-1.11.0+py3.9.12/lib/python3.9/site-packages/apex/pyprof/__init__.py:5: FutureWarning: pyprof will be removed by the end of June, 2022\n",
      "  warnings.warn(\"pyprof will be removed by the end of June, 2022\", FutureWarning)\n",
      "/gpfslocalsup/pub/anaconda-py3/2021.05/envs/pytorch-gpu-1.11.0+py3.9.12/lib/python3.9/site-packages/xgboost/compat.py:36: FutureWarning: pandas.Int64Index is deprecated and will be removed from pandas in a future version. Use pandas.Index with the appropriate dtype instead.\n",
      "  from pandas import MultiIndex, Int64Index\n",
      "Traceback (most recent call last):\n",
      "  File \"/gpfslocalsup/pub/anaconda-py3/2021.05/envs/pytorch-gpu-1.11.0+py3.9.12/lib/python3.9/runpy.py\", line 188, in _run_module_as_main\n",
      "    mod_name, mod_spec, code = _get_module_details(mod_name, _Error)\n",
      "  File \"/gpfslocalsup/pub/anaconda-py3/2021.05/envs/pytorch-gpu-1.11.0+py3.9.12/lib/python3.9/runpy.py\", line 147, in _get_module_details\n",
      "    return _get_module_details(pkg_main_name, error)\n",
      "  File \"/gpfslocalsup/pub/anaconda-py3/2021.05/envs/pytorch-gpu-1.11.0+py3.9.12/lib/python3.9/runpy.py\", line 111, in _get_module_details\n",
      "    __import__(pkg_name)\n",
      "  File \"/gpfsdswork/projects/rech/ibu/ssos023/Plug-AI/plug_ai/__init__.py\", line 12, in <module>\n",
      "    from . import managers\n",
      "  File \"/gpfsdswork/projects/rech/ibu/ssos023/Plug-AI/plug_ai/managers/__init__.py\", line 1, in <module>\n",
      "    from .managers import *\n",
      "  File \"/gpfsdswork/projects/rech/ibu/ssos023/Plug-AI/plug_ai/managers/managers.py\", line 7, in <module>\n",
      "    from ..data.datasets import *\n",
      "  File \"/gpfsdswork/projects/rech/ibu/ssos023/Plug-AI/plug_ai/data/__init__.py\", line 6, in <module>\n",
      "    from .nnUNet import nnUNet_dataset\n",
      "  File \"/gpfsdswork/projects/rech/ibu/ssos023/Plug-AI/plug_ai/data/nnUNet.py\", line 7, in <module>\n",
      "    from ..utils.script_utils import download_file_from_google_drive, gdrive_url2id\n",
      "  File \"/gpfsdswork/projects/rech/ibu/ssos023/Plug-AI/plug_ai/utils/__init__.py\", line 1, in <module>\n",
      "    from .parser import *\n",
      "  File \"/gpfsdswork/projects/rech/ibu/ssos023/Plug-AI/plug_ai/utils/parser.py\", line 4, in <module>\n",
      "    from .script_utils import *\n",
      "  File \"/gpfsdswork/projects/rech/ibu/ssos023/Plug-AI/plug_ai/utils/script_utils.py\", line 8, in <module>\n",
      "    from ..optim import supported_optimizer\n",
      "  File \"/gpfsdswork/projects/rech/ibu/ssos023/Plug-AI/plug_ai/optim/__init__.py\", line 2, in <module>\n",
      "    from torch.optim.lr_scheduler import PolynomialLR, LambdaLR, MultiplicativeLR, StepLR, MultiStepLR, ConstantLR, LinearLR, ExponentialLR, CosineAnnealingLR, ReduceLROnPlateau, CyclicLR, OneCycleLR, CosineAnnealingWarmRestarts\n",
      "ImportError: cannot import name 'PolynomialLR' from 'torch.optim.lr_scheduler' (/gpfslocalsup/pub/anaconda-py3/2021.05/envs/pytorch-gpu-1.11.0+py3.9.12/lib/python3.9/site-packages/torch/optim/lr_scheduler.py)\n"
     ]
    }
   ],
   "source": [
    "!python -m plug_ai --config_file ../config_exemples/config_Brats.yaml"
   ]
  },
  {
   "cell_type": "markdown",
   "id": "a31e0ecc-7533-44cf-97f3-0d103475a7b2",
   "metadata": {
    "tags": []
   },
   "source": [
    "#### CLI help"
   ]
  },
  {
   "cell_type": "code",
   "execution_count": 38,
   "id": "1ce96df5-ec04-4f48-9b85-09015d2f9383",
   "metadata": {},
   "outputs": [
    {
     "ename": "ImportError",
     "evalue": "cannot import name 'PolynomialLR' from 'torch.optim.lr_scheduler' (/gpfslocalsup/pub/anaconda-py3/2021.05/envs/pytorch-gpu-1.11.0+py3.9.12/lib/python3.9/site-packages/torch/optim/lr_scheduler.py)",
     "output_type": "error",
     "traceback": [
      "\u001b[0;31m---------------------------------------------------------------------------\u001b[0m",
      "\u001b[0;31mImportError\u001b[0m                               Traceback (most recent call last)",
      "Input \u001b[0;32mIn [38]\u001b[0m, in \u001b[0;36m<cell line: 1>\u001b[0;34m()\u001b[0m\n\u001b[0;32m----> 1\u001b[0m \u001b[38;5;28;01mfrom\u001b[39;00m \u001b[38;5;21;01mtorch\u001b[39;00m\u001b[38;5;21;01m.\u001b[39;00m\u001b[38;5;21;01moptim\u001b[39;00m\u001b[38;5;21;01m.\u001b[39;00m\u001b[38;5;21;01mlr_scheduler\u001b[39;00m \u001b[38;5;28;01mimport\u001b[39;00m PolynomialLR\n",
      "\u001b[0;31mImportError\u001b[0m: cannot import name 'PolynomialLR' from 'torch.optim.lr_scheduler' (/gpfslocalsup/pub/anaconda-py3/2021.05/envs/pytorch-gpu-1.11.0+py3.9.12/lib/python3.9/site-packages/torch/optim/lr_scheduler.py)"
     ]
    }
   ],
   "source": [
    "from torch.optim.lr_scheduler import PolynomialLR"
   ]
  },
  {
   "cell_type": "code",
   "execution_count": 29,
   "id": "97fa8162-f414-44e0-893c-c38bfabc0556",
   "metadata": {},
   "outputs": [
    {
     "name": "stdout",
     "output_type": "stream",
     "text": [
      "usage: __main__.py [-h] [--dataset DATASET] [--dataset_kwargs DATASET_KWARGS]\n",
      "                   [--preprocess PREPROCESS]\n",
      "                   [--preprocess_kwargs PREPROCESS_KWARGS]\n",
      "                   [--batch_size BATCH_SIZE] [--train_ratio TRAIN_RATIO]\n",
      "                   [--val_ratio VAL_RATIO] [--limit_sample LIMIT_SAMPLE]\n",
      "                   [--shuffle SHUFFLE] [--drop_last DROP_LAST] [--model MODEL]\n",
      "                   [--model_kwargs MODEL_KWARGS] [--loop LOOP]\n",
      "                   [--loop_kwargs LOOP_KWARGS] [--nb_epoch NB_EPOCH]\n",
      "                   [--learning_rate LEARNING_RATE] [--device DEVICE]\n",
      "                   [--report_log REPORT_LOG] [--criterion CRITERION]\n",
      "                   [--criterion_kwargs CRITERION_KWARGS]\n",
      "                   [--optimizer OPTIMIZER]\n",
      "                   [--optimizer_kwargs OPTIMIZER_KWARGS]\n",
      "                   [--config_file CONFIG_FILE] [--export_config EXPORT_CONFIG]\n",
      "                   [--mode MODE] [--seed SEED] [--verbose VERBOSE]\n",
      "\n",
      "optional arguments:\n",
      "  -h, --help            show this help message and exit\n",
      "\n",
      "Data arguments:\n",
      "  --dataset DATASET     A dataset name in the valid list of of datasets\n",
      "                        supported by Plug_ai\n",
      "  --dataset_kwargs DATASET_KWARGS\n",
      "                        The dictionnary of args to use that are necessary for\n",
      "                        dataset\n",
      "  --preprocess PREPROCESS\n",
      "                        A valid preprocessing pipeline name provided by\n",
      "                        plug_ai\n",
      "  --preprocess_kwargs PREPROCESS_KWARGS\n",
      "                        A dictionnary of args that are given to the processing\n",
      "                        pipeline\n",
      "  --batch_size BATCH_SIZE\n",
      "                        Number of samples to load per batch\n",
      "  --train_ratio TRAIN_RATIO\n",
      "                        Float : The fraction of the dataset to use for\n",
      "                        training, the rest will be used for final evaluation\n",
      "  --val_ratio VAL_RATIO\n",
      "                        Float : The fraction of the train set to use for\n",
      "                        validation (hp tuning)\n",
      "  --limit_sample LIMIT_SAMPLE\n",
      "                        Index value at which to stop when considering the\n",
      "                        dataset\n",
      "  --shuffle SHUFFLE     Boolean that indicates if the dataset should be\n",
      "                        shuffled at each epoch\n",
      "  --drop_last DROP_LAST\n",
      "                        Boolean that indicates if the last batch of an epoch\n",
      "                        should be left unused when incomplete.\n",
      "\n",
      "Model arguments:\n",
      "  --model MODEL         A model in the valid list of supported model or a\n",
      "                        callable that instantiate a Pytorch/Monai model\n",
      "  --model_kwargs MODEL_KWARGS\n",
      "                        Every arguments which should be passed to the model\n",
      "                        callable\n",
      "\n",
      "Execution arguments:\n",
      "  --loop LOOP\n",
      "  --loop_kwargs LOOP_KWARGS\n",
      "  --nb_epoch NB_EPOCH\n",
      "  --learning_rate LEARNING_RATE\n",
      "                        Learning rate\n",
      "  --device DEVICE\n",
      "  --report_log REPORT_LOG\n",
      "  --criterion CRITERION\n",
      "  --criterion_kwargs CRITERION_KWARGS\n",
      "  --optimizer OPTIMIZER\n",
      "  --optimizer_kwargs OPTIMIZER_KWARGS\n",
      "\n",
      "Global arguments:\n",
      "  --config_file CONFIG_FILE\n",
      "                        Path : The config file to set parameters more easily\n",
      "  --export_config EXPORT_CONFIG\n",
      "                        Path : If given, save the full config(combining CLI\n",
      "                        and config file) at the given path\n",
      "  --mode MODE           String : A mode between \"TRAINING\", \"EVALUATION\" and\n",
      "                        \"INFERENCE\"\n",
      "  --seed SEED           Int : If given, sets random aspect by setting random\n",
      "                        numbers generators\n",
      "  --verbose VERBOSE     String or None: The level of verbose wanted. None,\n",
      "                        \"RESTRICTED\" or \"FULL\"\n"
     ]
    }
   ],
   "source": [
    "!python -m plug_ai -h"
   ]
  },
  {
   "cell_type": "markdown",
   "id": "acaeebab-1c70-41e2-8fcc-4f9e2e0bfc54",
   "metadata": {
    "tags": []
   },
   "source": [
    "### Test librairie (WIP)"
   ]
  },
  {
   "cell_type": "code",
   "execution_count": null,
   "id": "85db1ba2-9466-42d0-b920-e10041c78d0a",
   "metadata": {},
   "outputs": [],
   "source": [
    "import plug_ai"
   ]
  },
  {
   "cell_type": "code",
   "execution_count": null,
   "id": "f144c1a5-c624-4bda-843a-adbf6555e1a4",
   "metadata": {},
   "outputs": [],
   "source": [
    "from plug_ai.data.dataset import get_dataset\n",
    "train_loader = get_dataset(args[\"dataset_dir\"], batch_size=args[\"batch_size\"], limit_sample=args[\"limit_sample\"])"
   ]
  },
  {
   "cell_type": "code",
   "execution_count": null,
   "id": "e1f3fe0f-9dc3-4380-a3d1-cf40b8c81f4c",
   "metadata": {
    "tags": []
   },
   "outputs": [],
   "source": [
    "plug_ai.data.dataset.datasets"
   ]
  },
  {
   "cell_type": "code",
   "execution_count": null,
   "id": "5c912e38-3e6d-4c34-835b-42c833876f19",
   "metadata": {},
   "outputs": [],
   "source": [
    "#Utile pour recharger la librairie sans relancer le kernel\n",
    "%load_ext autoreload\n",
    "%autoreload 2"
   ]
  },
  {
   "cell_type": "code",
   "execution_count": null,
   "id": "874d2d20-6b8d-4193-98a9-4fad5817f2ae",
   "metadata": {},
   "outputs": [],
   "source": [
    "import monai\n",
    "import inspect"
   ]
  }
 ],
 "metadata": {
  "kernelspec": {
   "display_name": "Python 3 (ipykernel)",
   "language": "python",
   "name": "python3"
  },
  "language_info": {
   "codemirror_mode": {
    "name": "ipython",
    "version": 3
   },
   "file_extension": ".py",
   "mimetype": "text/x-python",
   "name": "python",
   "nbconvert_exporter": "python",
   "pygments_lexer": "ipython3",
   "version": "3.9.12"
  }
 },
 "nbformat": 4,
 "nbformat_minor": 5
}
